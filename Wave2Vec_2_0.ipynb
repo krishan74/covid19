{
  "nbformat": 4,
  "nbformat_minor": 0,
  "metadata": {
    "colab": {
      "name": "Wave2Vec 2.0.ipynb",
      "provenance": [],
      "collapsed_sections": [],
      "include_colab_link": true
    },
    "kernelspec": {
      "name": "python3",
      "display_name": "Python 3"
    },
    "language_info": {
      "name": "python"
    }
  },
  "cells": [
    {
      "cell_type": "markdown",
      "metadata": {
        "id": "view-in-github",
        "colab_type": "text"
      },
      "source": [
        "<a href=\"https://colab.research.google.com/github/krishan74/covid19/blob/main/Wave2Vec_2_0.ipynb\" target=\"_parent\"><img src=\"https://colab.research.google.com/assets/colab-badge.svg\" alt=\"Open In Colab\"/></a>"
      ]
    },
    {
      "cell_type": "code",
      "source": [
        "import warnings\n",
        "warnings.filterwarnings(\"ignore\")"
      ],
      "metadata": {
        "id": "b26OgmVCWIIZ"
      },
      "execution_count": null,
      "outputs": []
    },
    {
      "cell_type": "code",
      "metadata": {
        "id": "SLAufgh_xxj7",
        "colab": {
          "base_uri": "https://localhost:8080/"
        },
        "outputId": "b5ab5340-d501-4ac0-f0bb-1e3f00d08929"
      },
      "source": [
        "gpu_info = !nvidia-smi\n",
        "gpu_info = '\\n'.join(gpu_info)\n",
        "if gpu_info.find('failed') >= 0:\n",
        "  print('Not connected to a GPU')\n",
        "else:\n",
        "  print(gpu_info)"
      ],
      "execution_count": null,
      "outputs": [
        {
          "output_type": "stream",
          "name": "stdout",
          "text": [
            "Wed May 25 06:31:56 2022       \n",
            "+-----------------------------------------------------------------------------+\n",
            "| NVIDIA-SMI 460.32.03    Driver Version: 460.32.03    CUDA Version: 11.2     |\n",
            "|-------------------------------+----------------------+----------------------+\n",
            "| GPU  Name        Persistence-M| Bus-Id        Disp.A | Volatile Uncorr. ECC |\n",
            "| Fan  Temp  Perf  Pwr:Usage/Cap|         Memory-Usage | GPU-Util  Compute M. |\n",
            "|                               |                      |               MIG M. |\n",
            "|===============================+======================+======================|\n",
            "|   0  Tesla T4            Off  | 00000000:00:04.0 Off |                    0 |\n",
            "| N/A   51C    P8    10W /  70W |      0MiB / 15109MiB |      0%      Default |\n",
            "|                               |                      |                  N/A |\n",
            "+-------------------------------+----------------------+----------------------+\n",
            "                                                                               \n",
            "+-----------------------------------------------------------------------------+\n",
            "| Processes:                                                                  |\n",
            "|  GPU   GI   CI        PID   Type   Process name                  GPU Memory |\n",
            "|        ID   ID                                                   Usage      |\n",
            "|=============================================================================|\n",
            "|  No running processes found                                                 |\n",
            "+-----------------------------------------------------------------------------+\n"
          ]
        }
      ]
    },
    {
      "cell_type": "code",
      "metadata": {
        "id": "c8eh87Hoee5d"
      },
      "source": [
        "%%capture\n",
        "!pip install datasets==1.18.3\n",
        "!pip install transformers==4.17.0\n",
        "!pip install jiwer"
      ],
      "execution_count": null,
      "outputs": []
    },
    {
      "cell_type": "code",
      "metadata": {
        "colab": {
          "base_uri": "https://localhost:8080/",
          "height": 415,
          "referenced_widgets": [
            "deefc19e6859419fb98145acf0e91489",
            "23a382b1e5eb4f02938fe91def04b821",
            "ebfb84d9ce014971a6ce53f00888d9c6",
            "facad5937b014b12afc2077f9e8cc312",
            "0bc2b3070f6c49a9957708538bb7da3a",
            "b72f8573e7fa4958baf09533011d4750",
            "9ef96fb86e43433a8a611190d21757e1",
            "428728bb6e6b48d7b122d046780abb91",
            "094796d6ef414c5d9a72772d0470ca6c",
            "142ac88477b447dc85f5c8375822838d",
            "0479741a49f446f5bec7da8a158147c3",
            "2bf1746919e5451385c65bf961b32e45",
            "c757846596034548bc1f4dc307b56f5f",
            "23bc51b210aa491ead3175b9f73b7b78",
            "08ea0f74344c4c659ef05ad7b05ab769",
            "74d1e5a40a0946da902e5e07e5cc0917",
            "cda46741682547339cfffc89a99fe5ef"
          ]
        },
        "id": "zFLBDyzQIA3R",
        "outputId": "fdbc3fd0-6686-4613-90c0-7aa9ed6af084"
      },
      "source": [
        "from huggingface_hub import notebook_login\n",
        "\n",
        "notebook_login()"
      ],
      "execution_count": null,
      "outputs": [
        {
          "output_type": "display_data",
          "data": {
            "text/plain": [
              "VBox(children=(HTML(value='<center> <img\\nsrc=https://huggingface.co/front/assets/huggingface_logo-noborder.sv…"
            ],
            "application/vnd.jupyter.widget-view+json": {
              "version_major": 2,
              "version_minor": 0,
              "model_id": "deefc19e6859419fb98145acf0e91489"
            }
          },
          "metadata": {}
        }
      ]
    },
    {
      "cell_type": "code",
      "metadata": {
        "id": "Q9BnQDhOITBC"
      },
      "source": [
        "%%capture\n",
        "!apt install git-lfs"
      ],
      "execution_count": null,
      "outputs": []
    },
    {
      "cell_type": "code",
      "metadata": {
        "id": "2MMXcWFFgCXU",
        "colab": {
          "base_uri": "https://localhost:8080/",
          "height": 200,
          "referenced_widgets": [
            "685cf77ebe2643238bf28f3b149d5d2a",
            "ca0e244e48e042d1b97c8d91ea9cce6c",
            "6f3ca71c07844f7faddfeefbb62e7896",
            "e033b1294666489f828a61c60ee34d5f",
            "98db4aeb306f4c73be5679688a44e628",
            "fc4dc53c010c428688cdb692d78717c5",
            "3b2344e939c34977ae59ff0584d3e67f",
            "50c4269003ae4c419044b6b571adb599",
            "196291cc64a547e98a88c4f38202daf1",
            "223da5d1c0954eccbae6c58203ad31f0",
            "d26a8891735d4fd3a65acf02e17ce1b9",
            "aa65003ca77b4dd580adc5b45f1eb4ec",
            "408bdddecd7241b9bd9ac23477d289ce",
            "a46b50eaf8a141c6854f28f33e445b1a",
            "bcaeacaf41f74b539d50339fa9161bc8",
            "48f844d8b8ef4f139cd9e252a06b5183",
            "c76c1a6f397e401b830da96074bd4e5f",
            "8d47626b60984f9b9df77cdae5b1a863",
            "eabc3e9ce5f941aebd16d20151abf114",
            "b34bc263ae854aceba3e2ac207c642e9",
            "d1df3192addc4ad8a077405095eda8cc",
            "8ca1a5e5f828484ab222b5a90ddf4964",
            "7a565de87fdb49d3b5d64782209f3955",
            "ddad667e4fd24b3494378884277881d2",
            "c8e761fbc962479386ee1e5a19f8444c",
            "7bfca8fecde947719cec56d052a79bb8",
            "7ea8e90ccf054eebaf361ed0e1ef882b",
            "f85563c8d4ae4ade84b3b6975f9d555a",
            "0d7caf236f654e46a595701147c28650",
            "c16e9a5d236b421ebd9d95665976c37c",
            "2fe00bdd420e41f4aa33c0454a2a97d4",
            "607dea3980e44045a0625f849c5c4461",
            "afb3c18e3de648248acfe1be1da146fe",
            "ee6a0d3c6f434ea98b7915370c863935",
            "48cf39dafc4046b8a56fec79a4c1d8f6",
            "e698be03f33f4553ab66cd1c43dd3137",
            "bdca894c841f48db9eecba2cb023816b",
            "adb162b7122b46c8be29e91f9c4f0901",
            "f6f076d80a5543e8adbce0b82f839bdd",
            "af2ffeb171774bd293e9d83021a29d73",
            "17e6704830bb4179801d1e182c945161",
            "2dbb129c7ab444fea3694e32de660eb9",
            "c518e2c653364a50a22eab8f7052bc5d",
            "93f05dad433d4aac8d1aac60ab0eb56a",
            "de9ee051ec644b5f97afd7290868c704",
            "a4bc897a67be450392c26584d521d8e6",
            "c0880895f79f46679365ccaac57fadf1",
            "9bfb62e08f2e4d5a873bd76264c1b16a",
            "1f7e6850e71f46b6b2f120a5701a5868",
            "6f5de00a97c04873bd391e96db03e108",
            "8d9dbabae1824f9aa67f27869c242d2c",
            "b87286b4d4e944b2a4d431d7946a7286",
            "7cb2ba3e51e341c5a1f1df62b478c70e",
            "1670afed22254f92992c4dbac0c0455e",
            "328d12d0a7704b5b8da00891bb1202bb",
            "5fe07d2eb0c04865b2b255f1c4dfd44e",
            "14691e1adcd94677b3780efbec5f9afb",
            "3b870ca8fe96447cad931474897d6427",
            "95e01215b995488cbb73d47b14ca3cc4",
            "fa57a58349714ca39bda7febb3739c3d",
            "65b188e9cb9a4e9a9d13f83b3a2edd49",
            "ef059ecd93bd42c6b2f63899a7959a1a",
            "0578ddfcd9b749f5b7fa10b66a52d8dd",
            "b6a85908bee445988f7064d79a8dab40",
            "14646c9bb33f4d0d880e791d77d823c4",
            "06871cdb1b104706bbd4542292343fc8"
          ]
        },
        "outputId": "a80463ce-3d39-4e2b-ed1b-046a7c120b7a"
      },
      "source": [
        "from datasets import load_dataset, load_metric\n",
        "\n",
        "timit = load_dataset(\"timit_asr\")"
      ],
      "execution_count": null,
      "outputs": [
        {
          "output_type": "display_data",
          "data": {
            "text/plain": [
              "Downloading:   0%|          | 0.00/2.40k [00:00<?, ?B/s]"
            ],
            "application/vnd.jupyter.widget-view+json": {
              "version_major": 2,
              "version_minor": 0,
              "model_id": "685cf77ebe2643238bf28f3b149d5d2a"
            }
          },
          "metadata": {}
        },
        {
          "output_type": "display_data",
          "data": {
            "text/plain": [
              "Downloading:   0%|          | 0.00/1.06k [00:00<?, ?B/s]"
            ],
            "application/vnd.jupyter.widget-view+json": {
              "version_major": 2,
              "version_minor": 0,
              "model_id": "aa65003ca77b4dd580adc5b45f1eb4ec"
            }
          },
          "metadata": {}
        },
        {
          "output_type": "stream",
          "name": "stdout",
          "text": [
            "Downloading and preparing dataset timit_asr/clean (download: 828.75 MiB, generated: 7.90 MiB, post-processed: Unknown size, total: 836.65 MiB) to /root/.cache/huggingface/datasets/timit_asr/clean/2.0.1/b11b576ddcccbcefa7c9f0c4e6c2a43756f3033adffe0fb686aa61043d0450ad...\n"
          ]
        },
        {
          "output_type": "display_data",
          "data": {
            "text/plain": [
              "Downloading:   0%|          | 0.00/869M [00:00<?, ?B/s]"
            ],
            "application/vnd.jupyter.widget-view+json": {
              "version_major": 2,
              "version_minor": 0,
              "model_id": "7a565de87fdb49d3b5d64782209f3955"
            }
          },
          "metadata": {}
        },
        {
          "output_type": "display_data",
          "data": {
            "text/plain": [
              "0 examples [00:00, ? examples/s]"
            ],
            "application/vnd.jupyter.widget-view+json": {
              "version_major": 2,
              "version_minor": 0,
              "model_id": "ee6a0d3c6f434ea98b7915370c863935"
            }
          },
          "metadata": {}
        },
        {
          "output_type": "display_data",
          "data": {
            "text/plain": [
              "0 examples [00:00, ? examples/s]"
            ],
            "application/vnd.jupyter.widget-view+json": {
              "version_major": 2,
              "version_minor": 0,
              "model_id": "de9ee051ec644b5f97afd7290868c704"
            }
          },
          "metadata": {}
        },
        {
          "output_type": "stream",
          "name": "stdout",
          "text": [
            "Dataset timit_asr downloaded and prepared to /root/.cache/huggingface/datasets/timit_asr/clean/2.0.1/b11b576ddcccbcefa7c9f0c4e6c2a43756f3033adffe0fb686aa61043d0450ad. Subsequent calls will reuse this data.\n"
          ]
        },
        {
          "output_type": "display_data",
          "data": {
            "text/plain": [
              "  0%|          | 0/2 [00:00<?, ?it/s]"
            ],
            "application/vnd.jupyter.widget-view+json": {
              "version_major": 2,
              "version_minor": 0,
              "model_id": "5fe07d2eb0c04865b2b255f1c4dfd44e"
            }
          },
          "metadata": {}
        }
      ]
    },
    {
      "cell_type": "code",
      "metadata": {
        "colab": {
          "base_uri": "https://localhost:8080/"
        },
        "id": "QbIM-L0xdvf4",
        "outputId": "fba83a12-817a-402f-f1c5-c929c9eae0b1"
      },
      "source": [
        "timit"
      ],
      "execution_count": null,
      "outputs": [
        {
          "output_type": "execute_result",
          "data": {
            "text/plain": [
              "DatasetDict({\n",
              "    train: Dataset({\n",
              "        features: ['file', 'audio', 'text', 'phonetic_detail', 'word_detail', 'dialect_region', 'sentence_type', 'speaker_id', 'id'],\n",
              "        num_rows: 4620\n",
              "    })\n",
              "    test: Dataset({\n",
              "        features: ['file', 'audio', 'text', 'phonetic_detail', 'word_detail', 'dialect_region', 'sentence_type', 'speaker_id', 'id'],\n",
              "        num_rows: 1680\n",
              "    })\n",
              "})"
            ]
          },
          "metadata": {},
          "execution_count": 8
        }
      ]
    },
    {
      "cell_type": "code",
      "metadata": {
        "id": "kbyq6lDgQc2a"
      },
      "source": [
        "timit = timit.remove_columns([\"phonetic_detail\", \"word_detail\", \"dialect_region\", \"id\", \"sentence_type\", \"speaker_id\"])"
      ],
      "execution_count": null,
      "outputs": []
    },
    {
      "cell_type": "code",
      "metadata": {
        "id": "72737oog2F6U"
      },
      "source": [
        "from datasets import ClassLabel\n",
        "import random\n",
        "import pandas as pd\n",
        "from IPython.display import display, HTML\n",
        "\n",
        "def show_random_elements(dataset, num_examples=10):\n",
        "    assert num_examples <= len(dataset), \"Can't pick more elements than there are in the dataset.\"\n",
        "    picks = []\n",
        "    for _ in range(num_examples):\n",
        "        pick = random.randint(0, len(dataset)-1)\n",
        "        while pick in picks:\n",
        "            pick = random.randint(0, len(dataset)-1)\n",
        "        picks.append(pick)\n",
        "    \n",
        "    df = pd.DataFrame(dataset[picks])\n",
        "    display(HTML(df.to_html()))"
      ],
      "execution_count": null,
      "outputs": []
    },
    {
      "cell_type": "code",
      "metadata": {
        "colab": {
          "base_uri": "https://localhost:8080/",
          "height": 363
        },
        "id": "K_JUmf3G3b9S",
        "outputId": "2a5f38d7-32a6-4d8f-9cfa-930512694fac"
      },
      "source": [
        "show_random_elements(timit[\"train\"].remove_columns([\"audio\", \"file\"]), num_examples=10)"
      ],
      "execution_count": null,
      "outputs": [
        {
          "output_type": "display_data",
          "data": {
            "text/plain": [
              "<IPython.core.display.HTML object>"
            ],
            "text/html": [
              "<table border=\"1\" class=\"dataframe\">\n",
              "  <thead>\n",
              "    <tr style=\"text-align: right;\">\n",
              "      <th></th>\n",
              "      <th>text</th>\n",
              "    </tr>\n",
              "  </thead>\n",
              "  <tbody>\n",
              "    <tr>\n",
              "      <th>0</th>\n",
              "      <td>She had your dark suit in greasy wash water all year.</td>\n",
              "    </tr>\n",
              "    <tr>\n",
              "      <th>1</th>\n",
              "      <td>She had your dark suit in greasy wash water all year.</td>\n",
              "    </tr>\n",
              "    <tr>\n",
              "      <th>2</th>\n",
              "      <td>His first glimpse of the ranch house across the brushy swells told him nothing.</td>\n",
              "    </tr>\n",
              "    <tr>\n",
              "      <th>3</th>\n",
              "      <td>Fights sprang up and were quickly squelched.</td>\n",
              "    </tr>\n",
              "    <tr>\n",
              "      <th>4</th>\n",
              "      <td>Don't ask me to carry an oily rag like that.</td>\n",
              "    </tr>\n",
              "    <tr>\n",
              "      <th>5</th>\n",
              "      <td>We'll serve rhubarb pie after Rachel's talk.</td>\n",
              "    </tr>\n",
              "    <tr>\n",
              "      <th>6</th>\n",
              "      <td>So we note approvingly a fresh sample of unanimity.</td>\n",
              "    </tr>\n",
              "    <tr>\n",
              "      <th>7</th>\n",
              "      <td>Each plane carried two five-hundred pound bombs.</td>\n",
              "    </tr>\n",
              "    <tr>\n",
              "      <th>8</th>\n",
              "      <td>Don't ask me to carry an oily rag like that.</td>\n",
              "    </tr>\n",
              "    <tr>\n",
              "      <th>9</th>\n",
              "      <td>They often go out in the evening.</td>\n",
              "    </tr>\n",
              "  </tbody>\n",
              "</table>"
            ]
          },
          "metadata": {}
        }
      ]
    },
    {
      "cell_type": "code",
      "metadata": {
        "id": "svKzVJ_hQGK6"
      },
      "source": [
        "import re\n",
        "chars_to_ignore_regex = '[\\,\\?\\.\\!\\-\\;\\:\\\"]'\n",
        "\n",
        "def remove_special_characters(batch):\n",
        "    batch[\"text\"] = re.sub(chars_to_ignore_regex, '', batch[\"text\"]).lower() + \" \"\n",
        "    return batch"
      ],
      "execution_count": null,
      "outputs": []
    },
    {
      "cell_type": "code",
      "metadata": {
        "colab": {
          "base_uri": "https://localhost:8080/",
          "height": 118,
          "referenced_widgets": [
            "f0e90b235c544a6ca8f6bd35dd502ff5",
            "e3ab95aec44e49d0a4d21c7209d37c4e",
            "e0d736802b5d4b59ace0e2d61799726e",
            "1ff42805c6974e9b851c72b3dd79ce90",
            "c17fca5fba674e01b41913a3502b67a2",
            "e7a00884322b44379a9a9acbd37ec3d2",
            "0162fa026eee4e868f584d7a1bebbb94",
            "9c1c2ec5b744414da6034818bbc95390",
            "a0006b8c20614a34ace5326437c10c9b",
            "9e13e07ed00348529753ec0777119871",
            "97ad1b7c76954dc68499f614b42bc565",
            "01fab85c5d5445d98f3f0799b579b08f",
            "b03d6cf26f82402ab5cd87651675dbf4",
            "bb1513e3316441a0a4d02f9e398bb0e7",
            "6e58d4d5b4a743c188ca647d9c43632b",
            "a3b3b9a3bf3241ea8a8246d8e694f492",
            "e688e2f8685449f7b852a7ba8bacca81",
            "a7a6d92eb5fc4bbd8dc54b08836ef759",
            "bd6ed804d8484be89100f538687a3a5d",
            "8f90bf98accd40b4a5ce570b9c76dec4",
            "9ec489d676c14a1e8a8aea07a25d63bf",
            "69ea51bace7e4a1e957a14ebf2992dda"
          ]
        },
        "id": "XIHocAuTQbBR",
        "outputId": "e7f7f17d-229c-4b24-a8d6-f458a39abb12"
      },
      "source": [
        "timit = timit.map(remove_special_characters)"
      ],
      "execution_count": null,
      "outputs": [
        {
          "output_type": "stream",
          "name": "stderr",
          "text": [
            "Parameter 'function'=<function remove_special_characters at 0x7fa098dd6cb0> of the transform datasets.arrow_dataset.Dataset._map_single couldn't be hashed properly, a random hash was used instead. Make sure your transforms and parameters are serializable with pickle or dill for the dataset fingerprinting and caching to work. If you reuse this transform, the caching mechanism will consider it to be different from the previous calls and recompute everything. This warning is only showed once. Subsequent hashing failures won't be showed.\n"
          ]
        },
        {
          "output_type": "display_data",
          "data": {
            "text/plain": [
              "0ex [00:00, ?ex/s]"
            ],
            "application/vnd.jupyter.widget-view+json": {
              "version_major": 2,
              "version_minor": 0,
              "model_id": "f0e90b235c544a6ca8f6bd35dd502ff5"
            }
          },
          "metadata": {}
        },
        {
          "output_type": "display_data",
          "data": {
            "text/plain": [
              "0ex [00:00, ?ex/s]"
            ],
            "application/vnd.jupyter.widget-view+json": {
              "version_major": 2,
              "version_minor": 0,
              "model_id": "01fab85c5d5445d98f3f0799b579b08f"
            }
          },
          "metadata": {}
        }
      ]
    },
    {
      "cell_type": "code",
      "metadata": {
        "colab": {
          "base_uri": "https://localhost:8080/",
          "height": 363
        },
        "id": "RBDRAAYxRE6n",
        "outputId": "9675850d-e37c-4fd1-a543-775abd59935a"
      },
      "source": [
        "show_random_elements(timit[\"train\"].remove_columns([\"audio\", \"file\"]))"
      ],
      "execution_count": null,
      "outputs": [
        {
          "output_type": "display_data",
          "data": {
            "text/plain": [
              "<IPython.core.display.HTML object>"
            ],
            "text/html": [
              "<table border=\"1\" class=\"dataframe\">\n",
              "  <thead>\n",
              "    <tr style=\"text-align: right;\">\n",
              "      <th></th>\n",
              "      <th>text</th>\n",
              "    </tr>\n",
              "  </thead>\n",
              "  <tbody>\n",
              "    <tr>\n",
              "      <th>0</th>\n",
              "      <td>coconut cream pie makes a nice dessert</td>\n",
              "    </tr>\n",
              "    <tr>\n",
              "      <th>1</th>\n",
              "      <td>only the best players enjoy popularity</td>\n",
              "    </tr>\n",
              "    <tr>\n",
              "      <th>2</th>\n",
              "      <td>while waiting for chipper she crisscrossed the square many times</td>\n",
              "    </tr>\n",
              "    <tr>\n",
              "      <th>3</th>\n",
              "      <td>what is this large thing by the ironing board</td>\n",
              "    </tr>\n",
              "    <tr>\n",
              "      <th>4</th>\n",
              "      <td>honey he whispered</td>\n",
              "    </tr>\n",
              "    <tr>\n",
              "      <th>5</th>\n",
              "      <td>the sermon emphasized the need for affirmative action</td>\n",
              "    </tr>\n",
              "    <tr>\n",
              "      <th>6</th>\n",
              "      <td>would have been easy to identify as opium by its odor</td>\n",
              "    </tr>\n",
              "    <tr>\n",
              "      <th>7</th>\n",
              "      <td>don't ask me to carry an oily rag like that</td>\n",
              "    </tr>\n",
              "    <tr>\n",
              "      <th>8</th>\n",
              "      <td>why not try another club</td>\n",
              "    </tr>\n",
              "    <tr>\n",
              "      <th>9</th>\n",
              "      <td>how do oysters make pearls</td>\n",
              "    </tr>\n",
              "  </tbody>\n",
              "</table>"
            ]
          },
          "metadata": {}
        }
      ]
    },
    {
      "cell_type": "code",
      "metadata": {
        "id": "LwCshNbbeRZR"
      },
      "source": [
        "def extract_all_chars(batch):\n",
        "  all_text = \" \".join(batch[\"text\"])\n",
        "  vocab = list(set(all_text))\n",
        "  return {\"vocab\": [vocab], \"all_text\": [all_text]}"
      ],
      "execution_count": null,
      "outputs": []
    },
    {
      "cell_type": "code",
      "metadata": {
        "colab": {
          "base_uri": "https://localhost:8080/",
          "height": 81,
          "referenced_widgets": [
            "3a2af549b33d48d6a60e1cd7bc871151",
            "8c0fa37a3e8b4d62be281715300f0449",
            "03dcafcec4744d68ad08926ec4264a62",
            "fdf10650f49d418aa92e10be2e26d931",
            "4d902987cca64bb4b934730a144802a0",
            "07c5d49380f84524b43f98188defbefc",
            "dc910dc452044f688ab1586f397bc3d5",
            "b2dac1a6feaa4fc685864cf1c8f3788b",
            "879bda98c7a34fc0900deee9b16765fa",
            "d5c3f8b47e814129829b6228245844a3",
            "9a47cc513afa48c0b26483c5deaa2156",
            "014b90458ab8470ab86eaa31144e7e8b",
            "93f9ef69cc424fc99b1146a25d00b433",
            "5d5785f60534406b9d74ec50e9839313",
            "b6971f722d32423aa516e6059bc2a9fb",
            "e631641ee5d14bd1863201cf446fb0a2",
            "be53d7bb8ffd4f1cbbb3385bf5669626",
            "3dde865365044e079b6cee1bebee9c04",
            "5b99f426b644445482623cbe4318fe5e",
            "bd0d2697741944a2abe52316c9ad9d1a",
            "f81364e784434d6bb31aa40d235b8f43",
            "dc0b78ad568741169c775547bc5fd897"
          ]
        },
        "id": "_m6uUjjcfbjH",
        "outputId": "ebbfd6f3-ec42-48a2-d19c-3131ad78fe50"
      },
      "source": [
        "vocabs = timit.map(extract_all_chars, batched=True, batch_size=-1, keep_in_memory=True, remove_columns=timit.column_names[\"train\"])"
      ],
      "execution_count": null,
      "outputs": [
        {
          "output_type": "display_data",
          "data": {
            "text/plain": [
              "  0%|          | 0/1 [00:00<?, ?ba/s]"
            ],
            "application/vnd.jupyter.widget-view+json": {
              "version_major": 2,
              "version_minor": 0,
              "model_id": "3a2af549b33d48d6a60e1cd7bc871151"
            }
          },
          "metadata": {}
        },
        {
          "output_type": "display_data",
          "data": {
            "text/plain": [
              "  0%|          | 0/1 [00:00<?, ?ba/s]"
            ],
            "application/vnd.jupyter.widget-view+json": {
              "version_major": 2,
              "version_minor": 0,
              "model_id": "014b90458ab8470ab86eaa31144e7e8b"
            }
          },
          "metadata": {}
        }
      ]
    },
    {
      "cell_type": "code",
      "metadata": {
        "id": "aQfneNsmlJI0"
      },
      "source": [
        "vocab_list = list(set(vocabs[\"train\"][\"vocab\"][0]) | set(vocabs[\"test\"][\"vocab\"][0]))"
      ],
      "execution_count": null,
      "outputs": []
    },
    {
      "cell_type": "code",
      "metadata": {
        "colab": {
          "base_uri": "https://localhost:8080/"
        },
        "id": "_0kRndSvqaKk",
        "outputId": "ddd0663e-671c-4f52-d0bb-e1692b189a60"
      },
      "source": [
        "vocab_dict = {v: k for k, v in enumerate(vocab_list)}\n",
        "vocab_dict"
      ],
      "execution_count": null,
      "outputs": [
        {
          "output_type": "execute_result",
          "data": {
            "text/plain": [
              "{' ': 2,\n",
              " \"'\": 21,\n",
              " 'a': 10,\n",
              " 'b': 23,\n",
              " 'c': 6,\n",
              " 'd': 0,\n",
              " 'e': 26,\n",
              " 'f': 18,\n",
              " 'g': 1,\n",
              " 'h': 9,\n",
              " 'i': 17,\n",
              " 'j': 20,\n",
              " 'k': 24,\n",
              " 'l': 8,\n",
              " 'm': 13,\n",
              " 'n': 27,\n",
              " 'o': 5,\n",
              " 'p': 25,\n",
              " 'q': 12,\n",
              " 'r': 16,\n",
              " 's': 7,\n",
              " 't': 3,\n",
              " 'u': 19,\n",
              " 'v': 11,\n",
              " 'w': 4,\n",
              " 'x': 14,\n",
              " 'y': 22,\n",
              " 'z': 15}"
            ]
          },
          "metadata": {},
          "execution_count": 18
        }
      ]
    },
    {
      "cell_type": "code",
      "metadata": {
        "id": "npbIbBoLgaFX"
      },
      "source": [
        "vocab_dict[\"|\"] = vocab_dict[\" \"]\n",
        "del vocab_dict[\" \"]"
      ],
      "execution_count": null,
      "outputs": []
    },
    {
      "cell_type": "code",
      "metadata": {
        "id": "znF0bNunsjbl",
        "colab": {
          "base_uri": "https://localhost:8080/"
        },
        "outputId": "91d9dea7-d39d-4a98-f1ec-ee2aa4d1c125"
      },
      "source": [
        "vocab_dict[\"[UNK]\"] = len(vocab_dict)\n",
        "vocab_dict[\"[PAD]\"] = len(vocab_dict)\n",
        "len(vocab_dict)"
      ],
      "execution_count": null,
      "outputs": [
        {
          "output_type": "execute_result",
          "data": {
            "text/plain": [
              "30"
            ]
          },
          "metadata": {},
          "execution_count": 20
        }
      ]
    },
    {
      "cell_type": "code",
      "metadata": {
        "id": "ehyUoh9vk191"
      },
      "source": [
        "import json\n",
        "with open('vocab.json', 'w') as vocab_file:\n",
        "    json.dump(vocab_dict, vocab_file)"
      ],
      "execution_count": null,
      "outputs": []
    },
    {
      "cell_type": "code",
      "metadata": {
        "id": "xriFGEWQkO4M"
      },
      "source": [
        "from transformers import Wav2Vec2CTCTokenizer\n",
        "\n",
        "tokenizer = Wav2Vec2CTCTokenizer(\"./vocab.json\", unk_token=\"[UNK]\", pad_token=\"[PAD]\", word_delimiter_token=\"|\")"
      ],
      "execution_count": null,
      "outputs": []
    },
    {
      "cell_type": "code",
      "metadata": {
        "id": "1mbffBdxIl0M"
      },
      "source": [
        "repo_name = \"wav2vec2-base-timit-demo-google-colab\""
      ],
      "execution_count": null,
      "outputs": []
    },
    {
      "cell_type": "code",
      "metadata": {
        "id": "ScBMUz8jIxJi"
      },
      "source": [
        "#tokenizer.push_to_hub(repo_name)"
      ],
      "execution_count": null,
      "outputs": []
    },
    {
      "cell_type": "code",
      "metadata": {
        "id": "kAR0-2KLkopp"
      },
      "source": [
        "from transformers import Wav2Vec2FeatureExtractor\n",
        "\n",
        "feature_extractor = Wav2Vec2FeatureExtractor(feature_size=1, sampling_rate=16000, padding_value=0.0, do_normalize=True, return_attention_mask=False)"
      ],
      "execution_count": null,
      "outputs": []
    },
    {
      "cell_type": "code",
      "metadata": {
        "id": "KYZtoW-tlZgl"
      },
      "source": [
        "from transformers import Wav2Vec2Processor\n",
        "\n",
        "processor = Wav2Vec2Processor(feature_extractor=feature_extractor, tokenizer=tokenizer)"
      ],
      "execution_count": null,
      "outputs": []
    },
    {
      "cell_type": "code",
      "metadata": {
        "colab": {
          "base_uri": "https://localhost:8080/",
          "height": 53
        },
        "id": "TTCS7W6XJ9BG",
        "outputId": "34fb2f1d-2386-41ef-9639-36607fd28308"
      },
      "source": [
        "timit[\"train\"][0][\"file\"]"
      ],
      "execution_count": null,
      "outputs": [
        {
          "output_type": "execute_result",
          "data": {
            "text/plain": [
              "'/root/.cache/huggingface/datasets/downloads/extracted/404950a46da14eac65eb4e2a8317b1372fb3971d980d91d5d5b221275b1fd7e0/data/TRAIN/DR4/MMDM0/SI681.WAV'"
            ],
            "application/vnd.google.colaboratory.intrinsic+json": {
              "type": "string"
            }
          },
          "metadata": {},
          "execution_count": 27
        }
      ]
    },
    {
      "cell_type": "code",
      "metadata": {
        "colab": {
          "base_uri": "https://localhost:8080/"
        },
        "id": "mk9QHuSsN7lf",
        "outputId": "76415e1c-6703-4666-9555-b31827625447"
      },
      "source": [
        "timit[\"train\"][0][\"audio\"]"
      ],
      "execution_count": null,
      "outputs": [
        {
          "output_type": "execute_result",
          "data": {
            "text/plain": [
              "{'array': array([-2.1362305e-04,  6.1035156e-05,  3.0517578e-05, ...,\n",
              "        -3.0517578e-05, -9.1552734e-05, -6.1035156e-05], dtype=float32),\n",
              " 'path': '/root/.cache/huggingface/datasets/downloads/extracted/404950a46da14eac65eb4e2a8317b1372fb3971d980d91d5d5b221275b1fd7e0/data/TRAIN/DR4/MMDM0/SI681.WAV',\n",
              " 'sampling_rate': 16000}"
            ]
          },
          "metadata": {},
          "execution_count": 28
        }
      ]
    },
    {
      "cell_type": "code",
      "metadata": {
        "colab": {
          "base_uri": "https://localhost:8080/",
          "height": 93
        },
        "id": "dueM6U7Ev0OA",
        "outputId": "dc9645a0-9dea-458a-a3ea-1e84dc7a939d"
      },
      "source": [
        "import IPython.display as ipd\n",
        "import numpy as np\n",
        "import random\n",
        "\n",
        "rand_int = random.randint(0, len(timit[\"train\"]))\n",
        "\n",
        "print(timit[\"train\"][rand_int][\"text\"])\n",
        "ipd.Audio(data=np.asarray(timit[\"train\"][rand_int][\"audio\"][\"array\"]), autoplay=True, rate=16000)"
      ],
      "execution_count": null,
      "outputs": [
        {
          "output_type": "stream",
          "name": "stdout",
          "text": [
            "the overweight charmer could slip poison into anyone's tea \n"
          ]
        },
        {
          "output_type": "execute_result",
          "data": {
            "text/plain": [
              "<IPython.lib.display.Audio object>"
            ],
            "text/html": [
              "\n",
              "                <audio controls=\"controls\" autoplay=\"autoplay\">\n",
              "                    <source src=\"data:audio/wav;base64,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\" type=\"audio/wav\" />\n",
              "                    Your browser does not support the audio element.\n",
              "                </audio>\n",
              "              "
            ]
          },
          "metadata": {},
          "execution_count": 29
        }
      ]
    },
    {
      "cell_type": "code",
      "metadata": {
        "colab": {
          "base_uri": "https://localhost:8080/"
        },
        "id": "1Po2g7YPuRTx",
        "outputId": "8b530f8b-6ec0-4af6-b131-69a7f14ed122"
      },
      "source": [
        "rand_int = random.randint(0, len(timit[\"train\"]))\n",
        "\n",
        "print(\"Target text:\", timit[\"train\"][rand_int][\"text\"])\n",
        "print(\"Input array shape:\", np.asarray(timit[\"train\"][rand_int][\"audio\"][\"array\"]).shape)\n",
        "print(\"Sampling rate:\", timit[\"train\"][rand_int][\"audio\"][\"sampling_rate\"])"
      ],
      "execution_count": null,
      "outputs": [
        {
          "output_type": "stream",
          "name": "stdout",
          "text": [
            "Target text: the advertising verse of plymouth variety store never changes \n",
            "Input array shape: (68916,)\n",
            "Sampling rate: 16000\n"
          ]
        }
      ]
    },
    {
      "cell_type": "code",
      "metadata": {
        "id": "eJY7I0XAwe9p"
      },
      "source": [
        "def prepare_dataset(batch):\n",
        "    audio = batch[\"audio\"]\n",
        "\n",
        "    # batched output is \"un-batched\" to ensure mapping is correct\n",
        "    batch[\"input_values\"] = processor(audio[\"array\"], sampling_rate=audio[\"sampling_rate\"]).input_values[0]\n",
        "    batch[\"input_length\"] = len(batch[\"input_values\"])\n",
        "    \n",
        "    with processor.as_target_processor():\n",
        "        batch[\"labels\"] = processor(batch[\"text\"]).input_ids\n",
        "    return batch"
      ],
      "execution_count": null,
      "outputs": []
    },
    {
      "cell_type": "code",
      "metadata": {
        "id": "-np9xYK-wl8q"
      },
      "source": [
        "timit = timit.map(prepare_dataset, remove_columns=timit.column_names[\"train\"], num_proc=4)"
      ],
      "execution_count": null,
      "outputs": []
    },
    {
      "cell_type": "code",
      "metadata": {
        "colab": {
          "base_uri": "https://localhost:8080/",
          "height": 49,
          "referenced_widgets": [
            "25aebe6f23414d3882cf6a40c03d98ff",
            "34480ce2cc374850b380e6f356f0aab2",
            "ebb96ac892da42e683ac7e7a1b29c339",
            "d7a1f2baae464a8d99edacef27679ede",
            "5ad657c5178d46a389732aac9098887d",
            "b09da20b9d86495fbb706cfaaebef663",
            "102070aed57446f5a9ce4b1908e9074c",
            "c1bb4a33313446a6a22e3f9ebc18d93b",
            "9ae4a3e82d0f4c4ab9cfd03de2f871dd",
            "01f50435ca5a4652a3982942342bbcac",
            "c93ae7f0563f4cb895a5e36352616455"
          ]
        },
        "id": "nqGobEPUvG3v",
        "outputId": "cfb3ca66-d50c-4c74-ffc1-b8ba58f6f2c1"
      },
      "source": [
        "max_input_length_in_sec = 4.0\n",
        "timit[\"train\"] = timit[\"train\"].filter(lambda x: x < max_input_length_in_sec * processor.feature_extractor.sampling_rate, input_columns=[\"input_length\"])"
      ],
      "execution_count": null,
      "outputs": [
        {
          "output_type": "display_data",
          "data": {
            "text/plain": [
              "  0%|          | 0/5 [00:00<?, ?ba/s]"
            ],
            "application/vnd.jupyter.widget-view+json": {
              "version_major": 2,
              "version_minor": 0,
              "model_id": "25aebe6f23414d3882cf6a40c03d98ff"
            }
          },
          "metadata": {}
        }
      ]
    },
    {
      "cell_type": "code",
      "metadata": {
        "id": "tborvC9hx88e"
      },
      "source": [
        "import torch\n",
        "\n",
        "from dataclasses import dataclass, field\n",
        "from typing import Any, Dict, List, Optional, Union\n",
        "\n",
        "@dataclass\n",
        "class DataCollatorCTCWithPadding:\n",
        "    \"\"\"\n",
        "    Data collator that will dynamically pad the inputs received.\n",
        "    Args:\n",
        "        processor (:class:`~transformers.Wav2Vec2Processor`)\n",
        "            The processor used for proccessing the data.\n",
        "        padding (:obj:`bool`, :obj:`str` or :class:`~transformers.tokenization_utils_base.PaddingStrategy`, `optional`, defaults to :obj:`True`):\n",
        "            Select a strategy to pad the returned sequences (according to the model's padding side and padding index)\n",
        "            among:\n",
        "            * :obj:`True` or :obj:`'longest'`: Pad to the longest sequence in the batch (or no padding if only a single\n",
        "              sequence if provided).\n",
        "            * :obj:`'max_length'`: Pad to a maximum length specified with the argument :obj:`max_length` or to the\n",
        "              maximum acceptable input length for the model if that argument is not provided.\n",
        "            * :obj:`False` or :obj:`'do_not_pad'` (default): No padding (i.e., can output a batch with sequences of\n",
        "              different lengths).\n",
        "    \"\"\"\n",
        "\n",
        "    processor: Wav2Vec2Processor\n",
        "    padding: Union[bool, str] = True\n",
        "\n",
        "    def __call__(self, features: List[Dict[str, Union[List[int], torch.Tensor]]]) -> Dict[str, torch.Tensor]:\n",
        "        # split inputs and labels since they have to be of different lenghts and need\n",
        "        # different padding methods\n",
        "        input_features = [{\"input_values\": feature[\"input_values\"]} for feature in features]\n",
        "        label_features = [{\"input_ids\": feature[\"labels\"]} for feature in features]\n",
        "\n",
        "        batch = self.processor.pad(\n",
        "            input_features,\n",
        "            padding=self.padding,\n",
        "            return_tensors=\"pt\",\n",
        "        )\n",
        "        with self.processor.as_target_processor():\n",
        "            labels_batch = self.processor.pad(\n",
        "                label_features,\n",
        "                padding=self.padding,\n",
        "                return_tensors=\"pt\",\n",
        "            )\n",
        "\n",
        "        # replace padding with -100 to ignore loss correctly\n",
        "        labels = labels_batch[\"input_ids\"].masked_fill(labels_batch.attention_mask.ne(1), -100)\n",
        "\n",
        "        batch[\"labels\"] = labels\n",
        "\n",
        "        return batch"
      ],
      "execution_count": null,
      "outputs": []
    },
    {
      "cell_type": "code",
      "metadata": {
        "id": "lbQf5GuZyQ4_"
      },
      "source": [
        "data_collator = DataCollatorCTCWithPadding(processor=processor, padding=True)"
      ],
      "execution_count": null,
      "outputs": []
    },
    {
      "cell_type": "code",
      "metadata": {
        "id": "9Xsux2gmyXso",
        "colab": {
          "base_uri": "https://localhost:8080/",
          "height": 49,
          "referenced_widgets": [
            "7e98e4c4ca03448a8bc0c82d775a50b6",
            "c78d39753361458286fb27660d05857c",
            "24d05109ce624237b5222844bf8151ab",
            "88b2b288c6d64069a05932b44e9e7256",
            "d62627b0527344c0b564e5c54cf3849d",
            "12b74edea2f2401ebc2934d7410c1f00",
            "246e2f213ef949cbb14e22464bc76607",
            "cd9f0d36951b41a3a52aa04fd79f0f49",
            "3c0a1389ef0d4a518f5d5344f7f5d23c",
            "006e915127c140f3bb1ad5a87e0c9ac3",
            "6dbf8ad514be48d9824b127bd1ac3263"
          ]
        },
        "outputId": "523b41d2-90a9-4e06-d52f-f13797317bfb"
      },
      "source": [
        "wer_metric = load_metric(\"wer\")"
      ],
      "execution_count": null,
      "outputs": [
        {
          "output_type": "display_data",
          "data": {
            "text/plain": [
              "Downloading:   0%|          | 0.00/1.90k [00:00<?, ?B/s]"
            ],
            "application/vnd.jupyter.widget-view+json": {
              "version_major": 2,
              "version_minor": 0,
              "model_id": "7e98e4c4ca03448a8bc0c82d775a50b6"
            }
          },
          "metadata": {}
        }
      ]
    },
    {
      "cell_type": "code",
      "metadata": {
        "id": "1XZ-kjweyTy_"
      },
      "source": [
        "def compute_metrics(pred):\n",
        "    pred_logits = pred.predictions\n",
        "    pred_ids = np.argmax(pred_logits, axis=-1)\n",
        "\n",
        "    pred.label_ids[pred.label_ids == -100] = processor.tokenizer.pad_token_id\n",
        "\n",
        "    pred_str = processor.batch_decode(pred_ids)\n",
        "    # we do not want to group tokens when computing the metrics\n",
        "    label_str = processor.batch_decode(pred.label_ids, group_tokens=False)\n",
        "\n",
        "    wer = wer_metric.compute(predictions=pred_str, references=label_str)\n",
        "\n",
        "    return {\"wer\": wer}"
      ],
      "execution_count": null,
      "outputs": []
    },
    {
      "cell_type": "code",
      "metadata": {
        "colab": {
          "base_uri": "https://localhost:8080/",
          "height": 188,
          "referenced_widgets": [
            "c462bfc002044a82841c6d8b64f06210",
            "a42f22d4ddb34a918b8991b68cbdfed0",
            "2aa1895da7144c0c890b0c39743f6daa",
            "a0f207578ed34a30a09c2b4b40cc1302",
            "4f443cb19ab142babbac8e047ac93ddc",
            "f681041490bb403ab8523a77314fabb9",
            "9caeb0c284af436e945f2408ec95b683",
            "b2953a1ac5734297ba21d0a74d12db43",
            "caf4c623fb584b84a780e97b5ee61711",
            "1dc640a3a59c4e20b6fe09446bfea705",
            "726343c492a549ab8df3ecb8cb806f62",
            "ef3c2d1d617a4808b534da25059a8dec",
            "ce2eafbf77084120b74de7306b78aee6",
            "0a7b2d3885a84cb1be1468451e35ce42",
            "023558ada88a41b49137f6da350654c3",
            "f789031ba340488abd96e4f48429c2ce",
            "23cf518f3b2d4ce096ccdf4c16cd164f",
            "67970337f18b4743b6febada637b48ab",
            "a9183743bce24a3b9a6d78739cb5fa08",
            "ee054e891b1d423f98062f398eeae22c",
            "fb0de2248d5d44cdb88774194cb7c6b0",
            "a557ee46f31b43d58ae60b77c8860f79"
          ]
        },
        "id": "e7cqAWIayn6w",
        "outputId": "c648d7fc-f1bf-47d5-cd37-b2261cfbf093"
      },
      "source": [
        "from transformers import Wav2Vec2ForCTC\n",
        "\n",
        "model = Wav2Vec2ForCTC.from_pretrained(\n",
        "    \"facebook/wav2vec2-base\",\n",
        "    ctc_loss_reduction=\"mean\", \n",
        "    pad_token_id=processor.tokenizer.pad_token_id,\n",
        ")"
      ],
      "execution_count": null,
      "outputs": [
        {
          "output_type": "display_data",
          "data": {
            "text/plain": [
              "Downloading:   0%|          | 0.00/1.80k [00:00<?, ?B/s]"
            ],
            "application/vnd.jupyter.widget-view+json": {
              "version_major": 2,
              "version_minor": 0,
              "model_id": "c462bfc002044a82841c6d8b64f06210"
            }
          },
          "metadata": {}
        },
        {
          "output_type": "display_data",
          "data": {
            "text/plain": [
              "Downloading:   0%|          | 0.00/363M [00:00<?, ?B/s]"
            ],
            "application/vnd.jupyter.widget-view+json": {
              "version_major": 2,
              "version_minor": 0,
              "model_id": "ef3c2d1d617a4808b534da25059a8dec"
            }
          },
          "metadata": {}
        },
        {
          "output_type": "stream",
          "name": "stderr",
          "text": [
            "Some weights of the model checkpoint at facebook/wav2vec2-base were not used when initializing Wav2Vec2ForCTC: ['quantizer.codevectors', 'project_q.bias', 'project_q.weight', 'project_hid.bias', 'project_hid.weight', 'quantizer.weight_proj.weight', 'quantizer.weight_proj.bias']\n",
            "- This IS expected if you are initializing Wav2Vec2ForCTC from the checkpoint of a model trained on another task or with another architecture (e.g. initializing a BertForSequenceClassification model from a BertForPreTraining model).\n",
            "- This IS NOT expected if you are initializing Wav2Vec2ForCTC from the checkpoint of a model that you expect to be exactly identical (initializing a BertForSequenceClassification model from a BertForSequenceClassification model).\n",
            "Some weights of Wav2Vec2ForCTC were not initialized from the model checkpoint at facebook/wav2vec2-base and are newly initialized: ['lm_head.weight', 'lm_head.bias']\n",
            "You should probably TRAIN this model on a down-stream task to be able to use it for predictions and inference.\n"
          ]
        }
      ]
    },
    {
      "cell_type": "code",
      "source": [
        "model.freeze_feature_encoder()"
      ],
      "metadata": {
        "id": "Et_NUAZjWppc"
      },
      "execution_count": null,
      "outputs": []
    },
    {
      "cell_type": "code",
      "metadata": {
        "id": "KbeKSV7uzGPP"
      },
      "source": [
        "from transformers import TrainingArguments\n",
        "\n",
        "training_args = TrainingArguments(\n",
        "  output_dir='./results',\n",
        "  group_by_length=True,\n",
        "  per_device_train_batch_size=8,\n",
        "  evaluation_strategy=\"steps\",\n",
        "  num_train_epochs=30,\n",
        "  fp16=True,\n",
        "  gradient_checkpointing=True,\n",
        "  save_steps=500,\n",
        "  eval_steps=500,\n",
        "  logging_steps=500,\n",
        "  learning_rate=1e-4,\n",
        "  weight_decay=0.005,\n",
        "  warmup_steps=1000,\n",
        "  save_total_limit=2,\n",
        ")"
      ],
      "execution_count": null,
      "outputs": []
    },
    {
      "cell_type": "code",
      "metadata": {
        "id": "rY7vBmFCPFgC",
        "colab": {
          "base_uri": "https://localhost:8080/"
        },
        "outputId": "3c9a1bcd-ae50-495d-b2d5-f4e4b9bf87ae"
      },
      "source": [
        "from transformers import Trainer\n",
        "\n",
        "trainer = Trainer(\n",
        "    model=model,\n",
        "    data_collator=data_collator,\n",
        "    args=training_args,\n",
        "    compute_metrics=compute_metrics,\n",
        "    train_dataset=timit[\"train\"],\n",
        "    eval_dataset=timit[\"test\"],\n",
        "    tokenizer=processor.feature_extractor,\n",
        ")"
      ],
      "execution_count": null,
      "outputs": [
        {
          "output_type": "stream",
          "name": "stderr",
          "text": [
            "Using amp half precision backend\n"
          ]
        }
      ]
    },
    {
      "cell_type": "markdown",
      "metadata": {
        "id": "VYYAvgkW4P0m"
      },
      "source": [
        "```javascript\n",
        "function ConnectButton(){\n",
        "    console.log(\"Connect pushed\"); \n",
        "    document.querySelector(\"#top-toolbar > colab-connect-button\").shadowRoot.querySelector(\"#connect\").click() \n",
        "}\n",
        "setInterval(ConnectButton,60000);\n",
        "```"
      ]
    },
    {
      "cell_type": "code",
      "metadata": {
        "colab": {
          "base_uri": "https://localhost:8080/",
          "height": 1000
        },
        "id": "_UEjJqGsQw24",
        "outputId": "e7de6dba-931d-4ad9-93c8-dadffb3a86de"
      },
      "source": [
        "trainer.train()"
      ],
      "execution_count": null,
      "outputs": [
        {
          "output_type": "stream",
          "name": "stderr",
          "text": [
            "The following columns in the training set  don't have a corresponding argument in `Wav2Vec2ForCTC.forward` and have been ignored: input_length. If input_length are not expected by `Wav2Vec2ForCTC.forward`,  you can safely ignore this message.\n",
            "***** Running training *****\n",
            "  Num examples = 3978\n",
            "  Num Epochs = 30\n",
            "  Instantaneous batch size per device = 8\n",
            "  Total train batch size (w. parallel, distributed & accumulation) = 8\n",
            "  Gradient Accumulation steps = 1\n",
            "  Total optimization steps = 14940\n"
          ]
        },
        {
          "output_type": "display_data",
          "data": {
            "text/plain": [
              "<IPython.core.display.HTML object>"
            ],
            "text/html": [
              "\n",
              "    <div>\n",
              "      \n",
              "      <progress value='14940' max='14940' style='width:300px; height:20px; vertical-align: middle;'></progress>\n",
              "      [14940/14940 1:50:22, Epoch 30/30]\n",
              "    </div>\n",
              "    <table border=\"1\" class=\"dataframe\">\n",
              "  <thead>\n",
              " <tr style=\"text-align: left;\">\n",
              "      <th>Step</th>\n",
              "      <th>Training Loss</th>\n",
              "      <th>Validation Loss</th>\n",
              "      <th>Wer</th>\n",
              "    </tr>\n",
              "  </thead>\n",
              "  <tbody>\n",
              "    <tr>\n",
              "      <td>500</td>\n",
              "      <td>3.590500</td>\n",
              "      <td>2.131872</td>\n",
              "      <td>1.051685</td>\n",
              "    </tr>\n",
              "    <tr>\n",
              "      <td>1000</td>\n",
              "      <td>0.956700</td>\n",
              "      <td>0.554309</td>\n",
              "      <td>0.537179</td>\n",
              "    </tr>\n",
              "    <tr>\n",
              "      <td>1500</td>\n",
              "      <td>0.464600</td>\n",
              "      <td>0.459036</td>\n",
              "      <td>0.463993</td>\n",
              "    </tr>\n",
              "    <tr>\n",
              "      <td>2000</td>\n",
              "      <td>0.317900</td>\n",
              "      <td>0.423107</td>\n",
              "      <td>0.430708</td>\n",
              "    </tr>\n",
              "    <tr>\n",
              "      <td>2500</td>\n",
              "      <td>0.242300</td>\n",
              "      <td>0.404305</td>\n",
              "      <td>0.410241</td>\n",
              "    </tr>\n",
              "    <tr>\n",
              "      <td>3000</td>\n",
              "      <td>0.202400</td>\n",
              "      <td>0.457461</td>\n",
              "      <td>0.393426</td>\n",
              "    </tr>\n",
              "    <tr>\n",
              "      <td>3500</td>\n",
              "      <td>0.161200</td>\n",
              "      <td>0.449660</td>\n",
              "      <td>0.380746</td>\n",
              "    </tr>\n",
              "    <tr>\n",
              "      <td>4000</td>\n",
              "      <td>0.141100</td>\n",
              "      <td>0.413464</td>\n",
              "      <td>0.384260</td>\n",
              "    </tr>\n",
              "    <tr>\n",
              "      <td>4500</td>\n",
              "      <td>0.126800</td>\n",
              "      <td>0.458915</td>\n",
              "      <td>0.383778</td>\n",
              "    </tr>\n",
              "    <tr>\n",
              "      <td>5000</td>\n",
              "      <td>0.110900</td>\n",
              "      <td>0.453102</td>\n",
              "      <td>0.375508</td>\n",
              "    </tr>\n",
              "    <tr>\n",
              "      <td>5500</td>\n",
              "      <td>0.097700</td>\n",
              "      <td>0.460260</td>\n",
              "      <td>0.372269</td>\n",
              "    </tr>\n",
              "    <tr>\n",
              "      <td>6000</td>\n",
              "      <td>0.087500</td>\n",
              "      <td>0.516180</td>\n",
              "      <td>0.378196</td>\n",
              "    </tr>\n",
              "    <tr>\n",
              "      <td>6500</td>\n",
              "      <td>0.084100</td>\n",
              "      <td>0.525312</td>\n",
              "      <td>0.366825</td>\n",
              "    </tr>\n",
              "    <tr>\n",
              "      <td>7000</td>\n",
              "      <td>0.072900</td>\n",
              "      <td>0.489926</td>\n",
              "      <td>0.360278</td>\n",
              "    </tr>\n",
              "    <tr>\n",
              "      <td>7500</td>\n",
              "      <td>0.069600</td>\n",
              "      <td>0.470264</td>\n",
              "      <td>0.361657</td>\n",
              "    </tr>\n",
              "    <tr>\n",
              "      <td>8000</td>\n",
              "      <td>0.062300</td>\n",
              "      <td>0.519359</td>\n",
              "      <td>0.360347</td>\n",
              "    </tr>\n",
              "    <tr>\n",
              "      <td>8500</td>\n",
              "      <td>0.054600</td>\n",
              "      <td>0.485415</td>\n",
              "      <td>0.361174</td>\n",
              "    </tr>\n",
              "    <tr>\n",
              "      <td>9000</td>\n",
              "      <td>0.055700</td>\n",
              "      <td>0.489666</td>\n",
              "      <td>0.367721</td>\n",
              "    </tr>\n",
              "    <tr>\n",
              "      <td>9500</td>\n",
              "      <td>0.047700</td>\n",
              "      <td>0.498496</td>\n",
              "      <td>0.360416</td>\n",
              "    </tr>\n",
              "    <tr>\n",
              "      <td>10000</td>\n",
              "      <td>0.044100</td>\n",
              "      <td>0.474954</td>\n",
              "      <td>0.358900</td>\n",
              "    </tr>\n",
              "    <tr>\n",
              "      <td>10500</td>\n",
              "      <td>0.041000</td>\n",
              "      <td>0.491756</td>\n",
              "      <td>0.347667</td>\n",
              "    </tr>\n",
              "    <tr>\n",
              "      <td>11000</td>\n",
              "      <td>0.036300</td>\n",
              "      <td>0.572306</td>\n",
              "      <td>0.352767</td>\n",
              "    </tr>\n",
              "    <tr>\n",
              "      <td>11500</td>\n",
              "      <td>0.032600</td>\n",
              "      <td>0.521393</td>\n",
              "      <td>0.353732</td>\n",
              "    </tr>\n",
              "    <tr>\n",
              "      <td>12000</td>\n",
              "      <td>0.031400</td>\n",
              "      <td>0.538719</td>\n",
              "      <td>0.350286</td>\n",
              "    </tr>\n",
              "    <tr>\n",
              "      <td>12500</td>\n",
              "      <td>0.030200</td>\n",
              "      <td>0.517697</td>\n",
              "      <td>0.343050</td>\n",
              "    </tr>\n",
              "    <tr>\n",
              "      <td>13000</td>\n",
              "      <td>0.027100</td>\n",
              "      <td>0.505242</td>\n",
              "      <td>0.337330</td>\n",
              "    </tr>\n",
              "    <tr>\n",
              "      <td>13500</td>\n",
              "      <td>0.024300</td>\n",
              "      <td>0.530319</td>\n",
              "      <td>0.339604</td>\n",
              "    </tr>\n",
              "    <tr>\n",
              "      <td>14000</td>\n",
              "      <td>0.023400</td>\n",
              "      <td>0.524511</td>\n",
              "      <td>0.337124</td>\n",
              "    </tr>\n",
              "    <tr>\n",
              "      <td>14500</td>\n",
              "      <td>0.021400</td>\n",
              "      <td>0.520169</td>\n",
              "      <td>0.337744</td>\n",
              "    </tr>\n",
              "  </tbody>\n",
              "</table><p>"
            ]
          },
          "metadata": {}
        },
        {
          "output_type": "stream",
          "name": "stderr",
          "text": [
            "The following columns in the evaluation set  don't have a corresponding argument in `Wav2Vec2ForCTC.forward` and have been ignored: input_length. If input_length are not expected by `Wav2Vec2ForCTC.forward`,  you can safely ignore this message.\n",
            "***** Running Evaluation *****\n",
            "  Num examples = 1680\n",
            "  Batch size = 8\n",
            "Saving model checkpoint to ./results/checkpoint-500\n",
            "Configuration saved in ./results/checkpoint-500/config.json\n",
            "Model weights saved in ./results/checkpoint-500/pytorch_model.bin\n",
            "Feature extractor saved in ./results/checkpoint-500/preprocessor_config.json\n",
            "The following columns in the evaluation set  don't have a corresponding argument in `Wav2Vec2ForCTC.forward` and have been ignored: input_length. If input_length are not expected by `Wav2Vec2ForCTC.forward`,  you can safely ignore this message.\n",
            "***** Running Evaluation *****\n",
            "  Num examples = 1680\n",
            "  Batch size = 8\n",
            "Saving model checkpoint to ./results/checkpoint-1000\n",
            "Configuration saved in ./results/checkpoint-1000/config.json\n",
            "Model weights saved in ./results/checkpoint-1000/pytorch_model.bin\n",
            "Feature extractor saved in ./results/checkpoint-1000/preprocessor_config.json\n",
            "The following columns in the evaluation set  don't have a corresponding argument in `Wav2Vec2ForCTC.forward` and have been ignored: input_length. If input_length are not expected by `Wav2Vec2ForCTC.forward`,  you can safely ignore this message.\n",
            "***** Running Evaluation *****\n",
            "  Num examples = 1680\n",
            "  Batch size = 8\n",
            "Saving model checkpoint to ./results/checkpoint-1500\n",
            "Configuration saved in ./results/checkpoint-1500/config.json\n",
            "Model weights saved in ./results/checkpoint-1500/pytorch_model.bin\n",
            "Feature extractor saved in ./results/checkpoint-1500/preprocessor_config.json\n",
            "Deleting older checkpoint [results/checkpoint-500] due to args.save_total_limit\n",
            "The following columns in the evaluation set  don't have a corresponding argument in `Wav2Vec2ForCTC.forward` and have been ignored: input_length. If input_length are not expected by `Wav2Vec2ForCTC.forward`,  you can safely ignore this message.\n",
            "***** Running Evaluation *****\n",
            "  Num examples = 1680\n",
            "  Batch size = 8\n",
            "Saving model checkpoint to ./results/checkpoint-2000\n",
            "Configuration saved in ./results/checkpoint-2000/config.json\n",
            "Model weights saved in ./results/checkpoint-2000/pytorch_model.bin\n",
            "Feature extractor saved in ./results/checkpoint-2000/preprocessor_config.json\n",
            "Deleting older checkpoint [results/checkpoint-1000] due to args.save_total_limit\n",
            "The following columns in the evaluation set  don't have a corresponding argument in `Wav2Vec2ForCTC.forward` and have been ignored: input_length. If input_length are not expected by `Wav2Vec2ForCTC.forward`,  you can safely ignore this message.\n",
            "***** Running Evaluation *****\n",
            "  Num examples = 1680\n",
            "  Batch size = 8\n",
            "Saving model checkpoint to ./results/checkpoint-2500\n",
            "Configuration saved in ./results/checkpoint-2500/config.json\n",
            "Model weights saved in ./results/checkpoint-2500/pytorch_model.bin\n",
            "Feature extractor saved in ./results/checkpoint-2500/preprocessor_config.json\n",
            "Deleting older checkpoint [results/checkpoint-1500] due to args.save_total_limit\n",
            "The following columns in the evaluation set  don't have a corresponding argument in `Wav2Vec2ForCTC.forward` and have been ignored: input_length. If input_length are not expected by `Wav2Vec2ForCTC.forward`,  you can safely ignore this message.\n",
            "***** Running Evaluation *****\n",
            "  Num examples = 1680\n",
            "  Batch size = 8\n",
            "Saving model checkpoint to ./results/checkpoint-3000\n",
            "Configuration saved in ./results/checkpoint-3000/config.json\n",
            "Model weights saved in ./results/checkpoint-3000/pytorch_model.bin\n",
            "Feature extractor saved in ./results/checkpoint-3000/preprocessor_config.json\n",
            "Deleting older checkpoint [results/checkpoint-2000] due to args.save_total_limit\n",
            "The following columns in the evaluation set  don't have a corresponding argument in `Wav2Vec2ForCTC.forward` and have been ignored: input_length. If input_length are not expected by `Wav2Vec2ForCTC.forward`,  you can safely ignore this message.\n",
            "***** Running Evaluation *****\n",
            "  Num examples = 1680\n",
            "  Batch size = 8\n",
            "Saving model checkpoint to ./results/checkpoint-3500\n",
            "Configuration saved in ./results/checkpoint-3500/config.json\n",
            "Model weights saved in ./results/checkpoint-3500/pytorch_model.bin\n",
            "Feature extractor saved in ./results/checkpoint-3500/preprocessor_config.json\n",
            "Deleting older checkpoint [results/checkpoint-2500] due to args.save_total_limit\n",
            "The following columns in the evaluation set  don't have a corresponding argument in `Wav2Vec2ForCTC.forward` and have been ignored: input_length. If input_length are not expected by `Wav2Vec2ForCTC.forward`,  you can safely ignore this message.\n",
            "***** Running Evaluation *****\n",
            "  Num examples = 1680\n",
            "  Batch size = 8\n",
            "Saving model checkpoint to ./results/checkpoint-4000\n",
            "Configuration saved in ./results/checkpoint-4000/config.json\n",
            "Model weights saved in ./results/checkpoint-4000/pytorch_model.bin\n",
            "Feature extractor saved in ./results/checkpoint-4000/preprocessor_config.json\n",
            "Deleting older checkpoint [results/checkpoint-3000] due to args.save_total_limit\n",
            "The following columns in the evaluation set  don't have a corresponding argument in `Wav2Vec2ForCTC.forward` and have been ignored: input_length. If input_length are not expected by `Wav2Vec2ForCTC.forward`,  you can safely ignore this message.\n",
            "***** Running Evaluation *****\n",
            "  Num examples = 1680\n",
            "  Batch size = 8\n",
            "Saving model checkpoint to ./results/checkpoint-4500\n",
            "Configuration saved in ./results/checkpoint-4500/config.json\n",
            "Model weights saved in ./results/checkpoint-4500/pytorch_model.bin\n",
            "Feature extractor saved in ./results/checkpoint-4500/preprocessor_config.json\n",
            "Deleting older checkpoint [results/checkpoint-3500] due to args.save_total_limit\n",
            "The following columns in the evaluation set  don't have a corresponding argument in `Wav2Vec2ForCTC.forward` and have been ignored: input_length. If input_length are not expected by `Wav2Vec2ForCTC.forward`,  you can safely ignore this message.\n",
            "***** Running Evaluation *****\n",
            "  Num examples = 1680\n",
            "  Batch size = 8\n",
            "Saving model checkpoint to ./results/checkpoint-5000\n",
            "Configuration saved in ./results/checkpoint-5000/config.json\n",
            "Model weights saved in ./results/checkpoint-5000/pytorch_model.bin\n",
            "Feature extractor saved in ./results/checkpoint-5000/preprocessor_config.json\n",
            "Deleting older checkpoint [results/checkpoint-4000] due to args.save_total_limit\n",
            "The following columns in the evaluation set  don't have a corresponding argument in `Wav2Vec2ForCTC.forward` and have been ignored: input_length. If input_length are not expected by `Wav2Vec2ForCTC.forward`,  you can safely ignore this message.\n",
            "***** Running Evaluation *****\n",
            "  Num examples = 1680\n",
            "  Batch size = 8\n",
            "Saving model checkpoint to ./results/checkpoint-5500\n",
            "Configuration saved in ./results/checkpoint-5500/config.json\n",
            "Model weights saved in ./results/checkpoint-5500/pytorch_model.bin\n",
            "Feature extractor saved in ./results/checkpoint-5500/preprocessor_config.json\n",
            "Deleting older checkpoint [results/checkpoint-4500] due to args.save_total_limit\n",
            "The following columns in the evaluation set  don't have a corresponding argument in `Wav2Vec2ForCTC.forward` and have been ignored: input_length. If input_length are not expected by `Wav2Vec2ForCTC.forward`,  you can safely ignore this message.\n",
            "***** Running Evaluation *****\n",
            "  Num examples = 1680\n",
            "  Batch size = 8\n",
            "Saving model checkpoint to ./results/checkpoint-6000\n",
            "Configuration saved in ./results/checkpoint-6000/config.json\n",
            "Model weights saved in ./results/checkpoint-6000/pytorch_model.bin\n",
            "Feature extractor saved in ./results/checkpoint-6000/preprocessor_config.json\n",
            "Deleting older checkpoint [results/checkpoint-5000] due to args.save_total_limit\n",
            "The following columns in the evaluation set  don't have a corresponding argument in `Wav2Vec2ForCTC.forward` and have been ignored: input_length. If input_length are not expected by `Wav2Vec2ForCTC.forward`,  you can safely ignore this message.\n",
            "***** Running Evaluation *****\n",
            "  Num examples = 1680\n",
            "  Batch size = 8\n",
            "Saving model checkpoint to ./results/checkpoint-6500\n",
            "Configuration saved in ./results/checkpoint-6500/config.json\n",
            "Model weights saved in ./results/checkpoint-6500/pytorch_model.bin\n",
            "Feature extractor saved in ./results/checkpoint-6500/preprocessor_config.json\n",
            "Deleting older checkpoint [results/checkpoint-5500] due to args.save_total_limit\n",
            "The following columns in the evaluation set  don't have a corresponding argument in `Wav2Vec2ForCTC.forward` and have been ignored: input_length. If input_length are not expected by `Wav2Vec2ForCTC.forward`,  you can safely ignore this message.\n",
            "***** Running Evaluation *****\n",
            "  Num examples = 1680\n",
            "  Batch size = 8\n",
            "Saving model checkpoint to ./results/checkpoint-7000\n",
            "Configuration saved in ./results/checkpoint-7000/config.json\n",
            "Model weights saved in ./results/checkpoint-7000/pytorch_model.bin\n",
            "Feature extractor saved in ./results/checkpoint-7000/preprocessor_config.json\n",
            "Deleting older checkpoint [results/checkpoint-6000] due to args.save_total_limit\n",
            "The following columns in the evaluation set  don't have a corresponding argument in `Wav2Vec2ForCTC.forward` and have been ignored: input_length. If input_length are not expected by `Wav2Vec2ForCTC.forward`,  you can safely ignore this message.\n",
            "***** Running Evaluation *****\n",
            "  Num examples = 1680\n",
            "  Batch size = 8\n",
            "Saving model checkpoint to ./results/checkpoint-7500\n",
            "Configuration saved in ./results/checkpoint-7500/config.json\n",
            "Model weights saved in ./results/checkpoint-7500/pytorch_model.bin\n",
            "Feature extractor saved in ./results/checkpoint-7500/preprocessor_config.json\n",
            "Deleting older checkpoint [results/checkpoint-6500] due to args.save_total_limit\n",
            "The following columns in the evaluation set  don't have a corresponding argument in `Wav2Vec2ForCTC.forward` and have been ignored: input_length. If input_length are not expected by `Wav2Vec2ForCTC.forward`,  you can safely ignore this message.\n",
            "***** Running Evaluation *****\n",
            "  Num examples = 1680\n",
            "  Batch size = 8\n",
            "Saving model checkpoint to ./results/checkpoint-8000\n",
            "Configuration saved in ./results/checkpoint-8000/config.json\n",
            "Model weights saved in ./results/checkpoint-8000/pytorch_model.bin\n",
            "Feature extractor saved in ./results/checkpoint-8000/preprocessor_config.json\n",
            "Deleting older checkpoint [results/checkpoint-7000] due to args.save_total_limit\n",
            "The following columns in the evaluation set  don't have a corresponding argument in `Wav2Vec2ForCTC.forward` and have been ignored: input_length. If input_length are not expected by `Wav2Vec2ForCTC.forward`,  you can safely ignore this message.\n",
            "***** Running Evaluation *****\n",
            "  Num examples = 1680\n",
            "  Batch size = 8\n",
            "Saving model checkpoint to ./results/checkpoint-8500\n",
            "Configuration saved in ./results/checkpoint-8500/config.json\n",
            "Model weights saved in ./results/checkpoint-8500/pytorch_model.bin\n",
            "Feature extractor saved in ./results/checkpoint-8500/preprocessor_config.json\n",
            "Deleting older checkpoint [results/checkpoint-7500] due to args.save_total_limit\n",
            "The following columns in the evaluation set  don't have a corresponding argument in `Wav2Vec2ForCTC.forward` and have been ignored: input_length. If input_length are not expected by `Wav2Vec2ForCTC.forward`,  you can safely ignore this message.\n",
            "***** Running Evaluation *****\n",
            "  Num examples = 1680\n",
            "  Batch size = 8\n",
            "Saving model checkpoint to ./results/checkpoint-9000\n",
            "Configuration saved in ./results/checkpoint-9000/config.json\n",
            "Model weights saved in ./results/checkpoint-9000/pytorch_model.bin\n",
            "Feature extractor saved in ./results/checkpoint-9000/preprocessor_config.json\n",
            "Deleting older checkpoint [results/checkpoint-8000] due to args.save_total_limit\n",
            "The following columns in the evaluation set  don't have a corresponding argument in `Wav2Vec2ForCTC.forward` and have been ignored: input_length. If input_length are not expected by `Wav2Vec2ForCTC.forward`,  you can safely ignore this message.\n",
            "***** Running Evaluation *****\n",
            "  Num examples = 1680\n",
            "  Batch size = 8\n",
            "Saving model checkpoint to ./results/checkpoint-9500\n",
            "Configuration saved in ./results/checkpoint-9500/config.json\n",
            "Model weights saved in ./results/checkpoint-9500/pytorch_model.bin\n",
            "Feature extractor saved in ./results/checkpoint-9500/preprocessor_config.json\n",
            "Deleting older checkpoint [results/checkpoint-8500] due to args.save_total_limit\n",
            "The following columns in the evaluation set  don't have a corresponding argument in `Wav2Vec2ForCTC.forward` and have been ignored: input_length. If input_length are not expected by `Wav2Vec2ForCTC.forward`,  you can safely ignore this message.\n",
            "***** Running Evaluation *****\n",
            "  Num examples = 1680\n",
            "  Batch size = 8\n",
            "Saving model checkpoint to ./results/checkpoint-10000\n",
            "Configuration saved in ./results/checkpoint-10000/config.json\n",
            "Model weights saved in ./results/checkpoint-10000/pytorch_model.bin\n",
            "Feature extractor saved in ./results/checkpoint-10000/preprocessor_config.json\n",
            "Deleting older checkpoint [results/checkpoint-9000] due to args.save_total_limit\n",
            "The following columns in the evaluation set  don't have a corresponding argument in `Wav2Vec2ForCTC.forward` and have been ignored: input_length. If input_length are not expected by `Wav2Vec2ForCTC.forward`,  you can safely ignore this message.\n",
            "***** Running Evaluation *****\n",
            "  Num examples = 1680\n",
            "  Batch size = 8\n",
            "Saving model checkpoint to ./results/checkpoint-10500\n",
            "Configuration saved in ./results/checkpoint-10500/config.json\n",
            "Model weights saved in ./results/checkpoint-10500/pytorch_model.bin\n",
            "Feature extractor saved in ./results/checkpoint-10500/preprocessor_config.json\n",
            "Deleting older checkpoint [results/checkpoint-9500] due to args.save_total_limit\n",
            "The following columns in the evaluation set  don't have a corresponding argument in `Wav2Vec2ForCTC.forward` and have been ignored: input_length. If input_length are not expected by `Wav2Vec2ForCTC.forward`,  you can safely ignore this message.\n",
            "***** Running Evaluation *****\n",
            "  Num examples = 1680\n",
            "  Batch size = 8\n",
            "Saving model checkpoint to ./results/checkpoint-11000\n",
            "Configuration saved in ./results/checkpoint-11000/config.json\n",
            "Model weights saved in ./results/checkpoint-11000/pytorch_model.bin\n",
            "Feature extractor saved in ./results/checkpoint-11000/preprocessor_config.json\n",
            "Deleting older checkpoint [results/checkpoint-10000] due to args.save_total_limit\n",
            "The following columns in the evaluation set  don't have a corresponding argument in `Wav2Vec2ForCTC.forward` and have been ignored: input_length. If input_length are not expected by `Wav2Vec2ForCTC.forward`,  you can safely ignore this message.\n",
            "***** Running Evaluation *****\n",
            "  Num examples = 1680\n",
            "  Batch size = 8\n",
            "Saving model checkpoint to ./results/checkpoint-11500\n",
            "Configuration saved in ./results/checkpoint-11500/config.json\n",
            "Model weights saved in ./results/checkpoint-11500/pytorch_model.bin\n",
            "Feature extractor saved in ./results/checkpoint-11500/preprocessor_config.json\n",
            "Deleting older checkpoint [results/checkpoint-10500] due to args.save_total_limit\n",
            "The following columns in the evaluation set  don't have a corresponding argument in `Wav2Vec2ForCTC.forward` and have been ignored: input_length. If input_length are not expected by `Wav2Vec2ForCTC.forward`,  you can safely ignore this message.\n",
            "***** Running Evaluation *****\n",
            "  Num examples = 1680\n",
            "  Batch size = 8\n",
            "Saving model checkpoint to ./results/checkpoint-12000\n",
            "Configuration saved in ./results/checkpoint-12000/config.json\n",
            "Model weights saved in ./results/checkpoint-12000/pytorch_model.bin\n",
            "Feature extractor saved in ./results/checkpoint-12000/preprocessor_config.json\n",
            "Deleting older checkpoint [results/checkpoint-11000] due to args.save_total_limit\n",
            "The following columns in the evaluation set  don't have a corresponding argument in `Wav2Vec2ForCTC.forward` and have been ignored: input_length. If input_length are not expected by `Wav2Vec2ForCTC.forward`,  you can safely ignore this message.\n",
            "***** Running Evaluation *****\n",
            "  Num examples = 1680\n",
            "  Batch size = 8\n",
            "Saving model checkpoint to ./results/checkpoint-12500\n",
            "Configuration saved in ./results/checkpoint-12500/config.json\n",
            "Model weights saved in ./results/checkpoint-12500/pytorch_model.bin\n",
            "Feature extractor saved in ./results/checkpoint-12500/preprocessor_config.json\n",
            "Deleting older checkpoint [results/checkpoint-11500] due to args.save_total_limit\n",
            "The following columns in the evaluation set  don't have a corresponding argument in `Wav2Vec2ForCTC.forward` and have been ignored: input_length. If input_length are not expected by `Wav2Vec2ForCTC.forward`,  you can safely ignore this message.\n",
            "***** Running Evaluation *****\n",
            "  Num examples = 1680\n",
            "  Batch size = 8\n",
            "Saving model checkpoint to ./results/checkpoint-13000\n",
            "Configuration saved in ./results/checkpoint-13000/config.json\n",
            "Model weights saved in ./results/checkpoint-13000/pytorch_model.bin\n",
            "Feature extractor saved in ./results/checkpoint-13000/preprocessor_config.json\n",
            "Deleting older checkpoint [results/checkpoint-12000] due to args.save_total_limit\n",
            "The following columns in the evaluation set  don't have a corresponding argument in `Wav2Vec2ForCTC.forward` and have been ignored: input_length. If input_length are not expected by `Wav2Vec2ForCTC.forward`,  you can safely ignore this message.\n",
            "***** Running Evaluation *****\n",
            "  Num examples = 1680\n",
            "  Batch size = 8\n",
            "Saving model checkpoint to ./results/checkpoint-13500\n",
            "Configuration saved in ./results/checkpoint-13500/config.json\n",
            "Model weights saved in ./results/checkpoint-13500/pytorch_model.bin\n",
            "Feature extractor saved in ./results/checkpoint-13500/preprocessor_config.json\n",
            "Deleting older checkpoint [results/checkpoint-12500] due to args.save_total_limit\n",
            "The following columns in the evaluation set  don't have a corresponding argument in `Wav2Vec2ForCTC.forward` and have been ignored: input_length. If input_length are not expected by `Wav2Vec2ForCTC.forward`,  you can safely ignore this message.\n",
            "***** Running Evaluation *****\n",
            "  Num examples = 1680\n",
            "  Batch size = 8\n",
            "Saving model checkpoint to ./results/checkpoint-14000\n",
            "Configuration saved in ./results/checkpoint-14000/config.json\n",
            "Model weights saved in ./results/checkpoint-14000/pytorch_model.bin\n",
            "Feature extractor saved in ./results/checkpoint-14000/preprocessor_config.json\n",
            "Deleting older checkpoint [results/checkpoint-13000] due to args.save_total_limit\n",
            "The following columns in the evaluation set  don't have a corresponding argument in `Wav2Vec2ForCTC.forward` and have been ignored: input_length. If input_length are not expected by `Wav2Vec2ForCTC.forward`,  you can safely ignore this message.\n",
            "***** Running Evaluation *****\n",
            "  Num examples = 1680\n",
            "  Batch size = 8\n",
            "Saving model checkpoint to ./results/checkpoint-14500\n",
            "Configuration saved in ./results/checkpoint-14500/config.json\n",
            "Model weights saved in ./results/checkpoint-14500/pytorch_model.bin\n",
            "Feature extractor saved in ./results/checkpoint-14500/preprocessor_config.json\n",
            "Deleting older checkpoint [results/checkpoint-13500] due to args.save_total_limit\n",
            "\n",
            "\n",
            "Training completed. Do not forget to share your model on huggingface.co/models =)\n",
            "\n",
            "\n"
          ]
        },
        {
          "output_type": "execute_result",
          "data": {
            "text/plain": [
              "TrainOutput(global_step=14940, training_loss=0.24354455091228766, metrics={'train_runtime': 6624.1664, 'train_samples_per_second': 18.016, 'train_steps_per_second': 2.255, 'total_flos': 3.0766610595969556e+18, 'train_loss': 0.24354455091228766, 'epoch': 30.0})"
            ]
          },
          "metadata": {},
          "execution_count": 42
        }
      ]
    },
    {
      "cell_type": "code",
      "metadata": {
        "id": "JYGQYBhHNsvj",
        "colab": {
          "base_uri": "https://localhost:8080/",
          "height": 345
        },
        "outputId": "37abc7de-1fe2-439d-83fe-1542eba78a5a"
      },
      "source": [
        "#trainer.push_to_hub()"
      ],
      "execution_count": null,
      "outputs": [
        {
          "output_type": "error",
          "ename": "OSError",
          "evalue": "ignored",
          "traceback": [
            "\u001b[0;31m---------------------------------------------------------------------------\u001b[0m",
            "\u001b[0;31mOSError\u001b[0m                                   Traceback (most recent call last)",
            "\u001b[0;32m<ipython-input-43-8fcc5527db7e>\u001b[0m in \u001b[0;36m<module>\u001b[0;34m()\u001b[0m\n\u001b[0;32m----> 1\u001b[0;31m \u001b[0mtrainer\u001b[0m\u001b[0;34m.\u001b[0m\u001b[0mpush_to_hub\u001b[0m\u001b[0;34m(\u001b[0m\u001b[0;34m)\u001b[0m\u001b[0;34m\u001b[0m\u001b[0;34m\u001b[0m\u001b[0m\n\u001b[0m",
            "\u001b[0;32m/usr/local/lib/python3.7/dist-packages/transformers/trainer.py\u001b[0m in \u001b[0;36mpush_to_hub\u001b[0;34m(self, commit_message, blocking, **kwargs)\u001b[0m\n\u001b[1;32m   2827\u001b[0m         \u001b[0;31m# it might fail.\u001b[0m\u001b[0;34m\u001b[0m\u001b[0;34m\u001b[0m\u001b[0;34m\u001b[0m\u001b[0m\n\u001b[1;32m   2828\u001b[0m         \u001b[0;32mif\u001b[0m \u001b[0;32mnot\u001b[0m \u001b[0mhasattr\u001b[0m\u001b[0;34m(\u001b[0m\u001b[0mself\u001b[0m\u001b[0;34m,\u001b[0m \u001b[0;34m\"repo\"\u001b[0m\u001b[0;34m)\u001b[0m\u001b[0;34m:\u001b[0m\u001b[0;34m\u001b[0m\u001b[0;34m\u001b[0m\u001b[0m\n\u001b[0;32m-> 2829\u001b[0;31m             \u001b[0mself\u001b[0m\u001b[0;34m.\u001b[0m\u001b[0minit_git_repo\u001b[0m\u001b[0;34m(\u001b[0m\u001b[0;34m)\u001b[0m\u001b[0;34m\u001b[0m\u001b[0;34m\u001b[0m\u001b[0m\n\u001b[0m\u001b[1;32m   2830\u001b[0m \u001b[0;34m\u001b[0m\u001b[0m\n\u001b[1;32m   2831\u001b[0m         \u001b[0;32mif\u001b[0m \u001b[0mself\u001b[0m\u001b[0;34m.\u001b[0m\u001b[0margs\u001b[0m\u001b[0;34m.\u001b[0m\u001b[0mshould_save\u001b[0m\u001b[0;34m:\u001b[0m\u001b[0;34m\u001b[0m\u001b[0;34m\u001b[0m\u001b[0m\n",
            "\u001b[0;32m/usr/local/lib/python3.7/dist-packages/transformers/trainer.py\u001b[0m in \u001b[0;36minit_git_repo\u001b[0;34m(self, at_init)\u001b[0m\n\u001b[1;32m   2709\u001b[0m                 \u001b[0mself\u001b[0m\u001b[0;34m.\u001b[0m\u001b[0margs\u001b[0m\u001b[0;34m.\u001b[0m\u001b[0moutput_dir\u001b[0m\u001b[0;34m,\u001b[0m\u001b[0;34m\u001b[0m\u001b[0;34m\u001b[0m\u001b[0m\n\u001b[1;32m   2710\u001b[0m                 \u001b[0mclone_from\u001b[0m\u001b[0;34m=\u001b[0m\u001b[0mrepo_name\u001b[0m\u001b[0;34m,\u001b[0m\u001b[0;34m\u001b[0m\u001b[0;34m\u001b[0m\u001b[0m\n\u001b[0;32m-> 2711\u001b[0;31m                 \u001b[0muse_auth_token\u001b[0m\u001b[0;34m=\u001b[0m\u001b[0muse_auth_token\u001b[0m\u001b[0;34m,\u001b[0m\u001b[0;34m\u001b[0m\u001b[0;34m\u001b[0m\u001b[0m\n\u001b[0m\u001b[1;32m   2712\u001b[0m             )\n\u001b[1;32m   2713\u001b[0m         \u001b[0;32mexcept\u001b[0m \u001b[0mEnvironmentError\u001b[0m\u001b[0;34m:\u001b[0m\u001b[0;34m\u001b[0m\u001b[0;34m\u001b[0m\u001b[0m\n",
            "\u001b[0;32m/usr/local/lib/python3.7/dist-packages/huggingface_hub/repository.py\u001b[0m in \u001b[0;36m__init__\u001b[0;34m(self, local_dir, clone_from, repo_type, use_auth_token, git_user, git_email, revision, private, skip_lfs_files, client)\u001b[0m\n\u001b[1;32m    496\u001b[0m \u001b[0;34m\u001b[0m\u001b[0m\n\u001b[1;32m    497\u001b[0m         \u001b[0;32mif\u001b[0m \u001b[0mclone_from\u001b[0m \u001b[0;32mis\u001b[0m \u001b[0;32mnot\u001b[0m \u001b[0;32mNone\u001b[0m\u001b[0;34m:\u001b[0m\u001b[0;34m\u001b[0m\u001b[0;34m\u001b[0m\u001b[0m\n\u001b[0;32m--> 498\u001b[0;31m             \u001b[0mself\u001b[0m\u001b[0;34m.\u001b[0m\u001b[0mclone_from\u001b[0m\u001b[0;34m(\u001b[0m\u001b[0mrepo_url\u001b[0m\u001b[0;34m=\u001b[0m\u001b[0mclone_from\u001b[0m\u001b[0;34m)\u001b[0m\u001b[0;34m\u001b[0m\u001b[0;34m\u001b[0m\u001b[0m\n\u001b[0m\u001b[1;32m    499\u001b[0m         \u001b[0;32melse\u001b[0m\u001b[0;34m:\u001b[0m\u001b[0;34m\u001b[0m\u001b[0;34m\u001b[0m\u001b[0m\n\u001b[1;32m    500\u001b[0m             \u001b[0;32mif\u001b[0m \u001b[0mis_git_repo\u001b[0m\u001b[0;34m(\u001b[0m\u001b[0mself\u001b[0m\u001b[0;34m.\u001b[0m\u001b[0mlocal_dir\u001b[0m\u001b[0;34m)\u001b[0m\u001b[0;34m:\u001b[0m\u001b[0;34m\u001b[0m\u001b[0;34m\u001b[0m\u001b[0m\n",
            "\u001b[0;32m/usr/local/lib/python3.7/dist-packages/huggingface_hub/repository.py\u001b[0m in \u001b[0;36mclone_from\u001b[0;34m(self, repo_url, use_auth_token)\u001b[0m\n\u001b[1;32m    713\u001b[0m                 \u001b[0;32mif\u001b[0m \u001b[0;32mnot\u001b[0m \u001b[0min_repository\u001b[0m\u001b[0;34m:\u001b[0m\u001b[0;34m\u001b[0m\u001b[0;34m\u001b[0m\u001b[0m\n\u001b[1;32m    714\u001b[0m                     raise EnvironmentError(\n\u001b[0;32m--> 715\u001b[0;31m                         \u001b[0;34m\"Tried to clone a repository in a non-empty folder that isn't a\"\u001b[0m\u001b[0;34m\u001b[0m\u001b[0;34m\u001b[0m\u001b[0m\n\u001b[0m\u001b[1;32m    716\u001b[0m                         \u001b[0;34m\" git repository. If you really want to do this, do it\"\u001b[0m\u001b[0;34m\u001b[0m\u001b[0;34m\u001b[0m\u001b[0m\n\u001b[1;32m    717\u001b[0m                         \u001b[0;34m\" manually:\\ngit init && git remote add origin && git pull\"\u001b[0m\u001b[0;34m\u001b[0m\u001b[0;34m\u001b[0m\u001b[0m\n",
            "\u001b[0;31mOSError\u001b[0m: Tried to clone a repository in a non-empty folder that isn't a git repository. If you really want to do this, do it manually:\ngit init && git remote add origin && git pull origin main\n or clone repo to a new folder and move your existing files there afterwards."
          ]
        }
      ]
    },
    {
      "cell_type": "markdown",
      "metadata": {
        "id": "Adm0LngNNxq7"
      },
      "source": [
        "```python\n",
        "from transformers import AutoModelForCTC, Wav2Vec2Processor\n",
        "\n",
        "model = AutoModelForCTC.from_pretrained(\"patrickvonplaten/wav2vec2-base-timit-demo-google-colab\")\n",
        "processor = Wav2Vec2Processor.from_pretrained(\"patrickvonplaten/wav2vec2-base-timit-demo-google-colab\")\n",
        "```"
      ]
    },
    {
      "cell_type": "code",
      "metadata": {
        "id": "-rg0USDCnbo6",
        "colab": {
          "base_uri": "https://localhost:8080/",
          "height": 686,
          "referenced_widgets": [
            "4e339c67b7d5454fbff56f79e20d76cf",
            "ccee8e7e6efd4a8b9831a6994cec9523",
            "f96ee2a143aa4b57971274d9abe71079",
            "81d4f422ebd84f1782b5c9828b5da4cb",
            "cd1d9a2b9f0048f38c03e214c751f6ce",
            "99ee158016b0410484f2fb7acdc12633",
            "6fd65caf51a94f3cafff6a6cf1edea46",
            "f0de7e1eb9d04545b9d69cde8925647d",
            "63f979c523a941d4aa671fa033476019",
            "2217c53c8eca4cc6831bc9b41ccc13c2",
            "a94a4e465a464739b17f2ce75d3ae5c4",
            "16a06f4ff64b4fd7a87f01bb3a88ab18",
            "ff66414ab49b43e59d8fd45802fb1e42",
            "13b696c4ecca4dfd84237c9e1d5d5c8e",
            "dd459b8fedb7412ca3d4874d50a0e195",
            "5d0653d6cdb142ff9c0109a7a8265826",
            "3cd84600f67f4cd8a04e4e05167cfa50",
            "c746e447ec3d42af9cbd72c7b0f16726",
            "0d4f4242cc0a479db38388b9bfbf6dc1",
            "e306e314075144eaaafe10fd82cd3fd8",
            "67bf2f8113cb49afa7a5eec6a41128c8",
            "9d5be032ae234428990fc52f58fa0411",
            "90b457d3c08e461d866c9222f057573b",
            "9e397a7d94e84a88952b5d6db4f901c9",
            "bf5984327de7491b913ff4be835f96c6",
            "28925ede02124cf5906662f09de8a3e4",
            "503ec65af615468d999ea77e75d39e21",
            "84c01127c4c14b6c8e9d8560cc7576f4",
            "f463a9be770141b5a1255d9e7ddce334",
            "556f959192fd433fb37c6c05210f21d8",
            "58e01e3b1287486387cdc1b2424ea97f",
            "82101b29f1de41a489e712ee2c818cb5",
            "4943292cc8f64fb9b48e01f0e5b6f599",
            "da7c6ae245d640458d1c88e1760b9779",
            "ebbe306b6c5a4e96aafeb28f6a922e8a",
            "83ef8ad1a5bd45d1829dec917f8be0c6",
            "bde8793908674249a533dde2a728e3e0",
            "6388df0df53443fe940d33a62682cf4f",
            "75446f57f15c4e139c0871d969d04671",
            "a84bba4b518b4939a30999701baf22af",
            "0861314b302543b1b0bd32571e51d848",
            "e0c6e4b1b6174c9f803bc26880cacda8",
            "45390a7838c248228745ec8ccceefb48",
            "f8cae3ffcc6f44ca86dcd88f48bd78f9"
          ]
        },
        "outputId": "32f10754-1d4d-49e3-f79c-f254041bd78c"
      },
      "source": [
        "processor = Wav2Vec2Processor.from_pretrained(\"patrickvonplaten/wav2vec2-base-timit-demo-google-colab\")"
      ],
      "execution_count": null,
      "outputs": [
        {
          "output_type": "stream",
          "name": "stderr",
          "text": [
            "https://huggingface.co/patrickvonplaten/wav2vec2-base-timit-demo-google-colab/resolve/main/preprocessor_config.json not found in cache or force_download set to True, downloading to /root/.cache/huggingface/transformers/tmppt41h5qm\n"
          ]
        },
        {
          "output_type": "display_data",
          "data": {
            "text/plain": [
              "Downloading:   0%|          | 0.00/215 [00:00<?, ?B/s]"
            ],
            "application/vnd.jupyter.widget-view+json": {
              "version_major": 2,
              "version_minor": 0,
              "model_id": "4e339c67b7d5454fbff56f79e20d76cf"
            }
          },
          "metadata": {}
        },
        {
          "output_type": "stream",
          "name": "stderr",
          "text": [
            "storing https://huggingface.co/patrickvonplaten/wav2vec2-base-timit-demo-google-colab/resolve/main/preprocessor_config.json in cache at /root/.cache/huggingface/transformers/17fa07f6e2f88edf24c71037bed1b7cf0cf9acfef7d3353afb589689627542c1.0e3e6656f99a6f7b9eddd943463eb7f34363640fce9e87b047ebd50d4b112b50\n",
            "creating metadata file for /root/.cache/huggingface/transformers/17fa07f6e2f88edf24c71037bed1b7cf0cf9acfef7d3353afb589689627542c1.0e3e6656f99a6f7b9eddd943463eb7f34363640fce9e87b047ebd50d4b112b50\n",
            "loading feature extractor configuration file https://huggingface.co/patrickvonplaten/wav2vec2-base-timit-demo-google-colab/resolve/main/preprocessor_config.json from cache at /root/.cache/huggingface/transformers/17fa07f6e2f88edf24c71037bed1b7cf0cf9acfef7d3353afb589689627542c1.0e3e6656f99a6f7b9eddd943463eb7f34363640fce9e87b047ebd50d4b112b50\n",
            "Feature extractor Wav2Vec2FeatureExtractor {\n",
            "  \"do_normalize\": true,\n",
            "  \"feature_extractor_type\": \"Wav2Vec2FeatureExtractor\",\n",
            "  \"feature_size\": 1,\n",
            "  \"padding_side\": \"right\",\n",
            "  \"padding_value\": 0.0,\n",
            "  \"return_attention_mask\": false,\n",
            "  \"sampling_rate\": 16000\n",
            "}\n",
            "\n",
            "https://huggingface.co/patrickvonplaten/wav2vec2-base-timit-demo-google-colab/resolve/main/tokenizer_config.json not found in cache or force_download set to True, downloading to /root/.cache/huggingface/transformers/tmpf3e9zbkx\n"
          ]
        },
        {
          "output_type": "display_data",
          "data": {
            "text/plain": [
              "Downloading:   0%|          | 0.00/217 [00:00<?, ?B/s]"
            ],
            "application/vnd.jupyter.widget-view+json": {
              "version_major": 2,
              "version_minor": 0,
              "model_id": "16a06f4ff64b4fd7a87f01bb3a88ab18"
            }
          },
          "metadata": {}
        },
        {
          "output_type": "stream",
          "name": "stderr",
          "text": [
            "storing https://huggingface.co/patrickvonplaten/wav2vec2-base-timit-demo-google-colab/resolve/main/tokenizer_config.json in cache at /root/.cache/huggingface/transformers/7bf2e07c1c7ed7e3d055d87aa6bd33c75e6883d98029ae3744fed6bea9e35095.59710b1a6a5501d31e746b6e464f5c44de3e55a58f80634196025936683a68a9\n",
            "creating metadata file for /root/.cache/huggingface/transformers/7bf2e07c1c7ed7e3d055d87aa6bd33c75e6883d98029ae3744fed6bea9e35095.59710b1a6a5501d31e746b6e464f5c44de3e55a58f80634196025936683a68a9\n",
            "https://huggingface.co/patrickvonplaten/wav2vec2-base-timit-demo-google-colab/resolve/main/vocab.json not found in cache or force_download set to True, downloading to /root/.cache/huggingface/transformers/tmpp63i263t\n"
          ]
        },
        {
          "output_type": "display_data",
          "data": {
            "text/plain": [
              "Downloading:   0%|          | 0.00/268 [00:00<?, ?B/s]"
            ],
            "application/vnd.jupyter.widget-view+json": {
              "version_major": 2,
              "version_minor": 0,
              "model_id": "90b457d3c08e461d866c9222f057573b"
            }
          },
          "metadata": {}
        },
        {
          "output_type": "stream",
          "name": "stderr",
          "text": [
            "storing https://huggingface.co/patrickvonplaten/wav2vec2-base-timit-demo-google-colab/resolve/main/vocab.json in cache at /root/.cache/huggingface/transformers/f739813380b0880ba302557f0f990f0f64e8efe81fcc91a4fce08206a91ee215.c44a036121683e19f1a033a1765d4344364cb4633a6cbf5cf51b153f2388abb1\n",
            "creating metadata file for /root/.cache/huggingface/transformers/f739813380b0880ba302557f0f990f0f64e8efe81fcc91a4fce08206a91ee215.c44a036121683e19f1a033a1765d4344364cb4633a6cbf5cf51b153f2388abb1\n",
            "https://huggingface.co/patrickvonplaten/wav2vec2-base-timit-demo-google-colab/resolve/main/special_tokens_map.json not found in cache or force_download set to True, downloading to /root/.cache/huggingface/transformers/tmpjhn2047l\n"
          ]
        },
        {
          "output_type": "display_data",
          "data": {
            "text/plain": [
              "Downloading:   0%|          | 0.00/85.0 [00:00<?, ?B/s]"
            ],
            "application/vnd.jupyter.widget-view+json": {
              "version_major": 2,
              "version_minor": 0,
              "model_id": "da7c6ae245d640458d1c88e1760b9779"
            }
          },
          "metadata": {}
        },
        {
          "output_type": "stream",
          "name": "stderr",
          "text": [
            "storing https://huggingface.co/patrickvonplaten/wav2vec2-base-timit-demo-google-colab/resolve/main/special_tokens_map.json in cache at /root/.cache/huggingface/transformers/c239f3738252f8d8e83d9813ea82866aeec476c467a008db86229f4edc6490b0.a21d51735cf8667bcd610f057e88548d5d6a381401f6b4501a8bc6c1a9dc8498\n",
            "creating metadata file for /root/.cache/huggingface/transformers/c239f3738252f8d8e83d9813ea82866aeec476c467a008db86229f4edc6490b0.a21d51735cf8667bcd610f057e88548d5d6a381401f6b4501a8bc6c1a9dc8498\n",
            "loading file https://huggingface.co/patrickvonplaten/wav2vec2-base-timit-demo-google-colab/resolve/main/vocab.json from cache at /root/.cache/huggingface/transformers/f739813380b0880ba302557f0f990f0f64e8efe81fcc91a4fce08206a91ee215.c44a036121683e19f1a033a1765d4344364cb4633a6cbf5cf51b153f2388abb1\n",
            "loading file https://huggingface.co/patrickvonplaten/wav2vec2-base-timit-demo-google-colab/resolve/main/tokenizer_config.json from cache at /root/.cache/huggingface/transformers/7bf2e07c1c7ed7e3d055d87aa6bd33c75e6883d98029ae3744fed6bea9e35095.59710b1a6a5501d31e746b6e464f5c44de3e55a58f80634196025936683a68a9\n",
            "loading file https://huggingface.co/patrickvonplaten/wav2vec2-base-timit-demo-google-colab/resolve/main/added_tokens.json from cache at None\n",
            "loading file https://huggingface.co/patrickvonplaten/wav2vec2-base-timit-demo-google-colab/resolve/main/special_tokens_map.json from cache at /root/.cache/huggingface/transformers/c239f3738252f8d8e83d9813ea82866aeec476c467a008db86229f4edc6490b0.a21d51735cf8667bcd610f057e88548d5d6a381401f6b4501a8bc6c1a9dc8498\n",
            "Adding <s> to the vocabulary\n",
            "Adding </s> to the vocabulary\n",
            "Special tokens have been added in the vocabulary, make sure the associated word embeddings are fine-tuned or trained.\n"
          ]
        }
      ]
    },
    {
      "cell_type": "code",
      "metadata": {
        "id": "sSpFW3pDn23P",
        "colab": {
          "base_uri": "https://localhost:8080/",
          "height": 1000,
          "referenced_widgets": [
            "975e9f1c89c449b0934d358761ec5e5c",
            "55dfb373cc4b4f409d08421214379208",
            "99d52cd8259442ca95180199c5fa56f9",
            "1b8e4e52458f4948884c4eb6328eaf4b",
            "5c82d26df195460888d7ebaf0543eb93",
            "09965a09891a495392ad9dcd98739672",
            "c6bf52fd3ab747eeb44b0f44c7c45abc",
            "702654c1592e44a1b03c478af9f235da",
            "53d4632b06de43b7a9851c65be218cdf",
            "2089998612a84d2bbe2bc9b2056e8aea",
            "d986cb1914ca447fb60cc6bc6b1a39b2",
            "b8d6cfca724541abb81eb7cf9a19902a",
            "3bc3a369989048f888ba017a70a28479",
            "0a93b3ca9c564403b0f2448527847a57",
            "5e33d268661640f7a4978773af2b7af1",
            "bdb723249d6348f19decbd1b11ddc29a",
            "90db5b8e8b924508bf618fe2366a8cc2",
            "291a54314cc64f9ebd1043be4bc6cdae",
            "a46e915f20d14e66b4aadf32583d65e6",
            "de6bc01059b84dc0be9056b7563a31f2",
            "b53503851391429983e8a10f4e8bd69b",
            "fc889caed4bc47fe85846bacb40b1294"
          ]
        },
        "outputId": "183ade43-393f-4540-a57d-82ec9f0905b2"
      },
      "source": [
        "model = Wav2Vec2ForCTC.from_pretrained(\"patrickvonplaten/wav2vec2-base-timit-demo-google-colab\").cuda()"
      ],
      "execution_count": null,
      "outputs": [
        {
          "output_type": "stream",
          "name": "stderr",
          "text": [
            "https://huggingface.co/patrickvonplaten/wav2vec2-base-timit-demo-google-colab/resolve/main/config.json not found in cache or force_download set to True, downloading to /root/.cache/huggingface/transformers/tmpaw2rhekt\n"
          ]
        },
        {
          "output_type": "display_data",
          "data": {
            "text/plain": [
              "Downloading:   0%|          | 0.00/2.29k [00:00<?, ?B/s]"
            ],
            "application/vnd.jupyter.widget-view+json": {
              "version_major": 2,
              "version_minor": 0,
              "model_id": "975e9f1c89c449b0934d358761ec5e5c"
            }
          },
          "metadata": {}
        },
        {
          "output_type": "stream",
          "name": "stderr",
          "text": [
            "storing https://huggingface.co/patrickvonplaten/wav2vec2-base-timit-demo-google-colab/resolve/main/config.json in cache at /root/.cache/huggingface/transformers/7606a293c66b1cba6bb9a342dcffe3831dc19a120cfeeb9e57cdf6ffb9630f3f.3202909be16e9c482257d0c4d35b4f4c2558cea585027c729eed803ba4bf0d8e\n",
            "creating metadata file for /root/.cache/huggingface/transformers/7606a293c66b1cba6bb9a342dcffe3831dc19a120cfeeb9e57cdf6ffb9630f3f.3202909be16e9c482257d0c4d35b4f4c2558cea585027c729eed803ba4bf0d8e\n",
            "loading configuration file https://huggingface.co/patrickvonplaten/wav2vec2-base-timit-demo-google-colab/resolve/main/config.json from cache at /root/.cache/huggingface/transformers/7606a293c66b1cba6bb9a342dcffe3831dc19a120cfeeb9e57cdf6ffb9630f3f.3202909be16e9c482257d0c4d35b4f4c2558cea585027c729eed803ba4bf0d8e\n",
            "Model config Wav2Vec2Config {\n",
            "  \"_name_or_path\": \"facebook/wav2vec2-base\",\n",
            "  \"activation_dropout\": 0.0,\n",
            "  \"adapter_kernel_size\": 3,\n",
            "  \"adapter_stride\": 2,\n",
            "  \"add_adapter\": false,\n",
            "  \"apply_spec_augment\": true,\n",
            "  \"architectures\": [\n",
            "    \"Wav2Vec2ForCTC\"\n",
            "  ],\n",
            "  \"attention_dropout\": 0.1,\n",
            "  \"bos_token_id\": 1,\n",
            "  \"classifier_proj_size\": 256,\n",
            "  \"codevector_dim\": 256,\n",
            "  \"contrastive_logits_temperature\": 0.1,\n",
            "  \"conv_bias\": false,\n",
            "  \"conv_dim\": [\n",
            "    512,\n",
            "    512,\n",
            "    512,\n",
            "    512,\n",
            "    512,\n",
            "    512,\n",
            "    512\n",
            "  ],\n",
            "  \"conv_kernel\": [\n",
            "    10,\n",
            "    3,\n",
            "    3,\n",
            "    3,\n",
            "    3,\n",
            "    2,\n",
            "    2\n",
            "  ],\n",
            "  \"conv_stride\": [\n",
            "    5,\n",
            "    2,\n",
            "    2,\n",
            "    2,\n",
            "    2,\n",
            "    2,\n",
            "    2\n",
            "  ],\n",
            "  \"ctc_loss_reduction\": \"mean\",\n",
            "  \"ctc_zero_infinity\": false,\n",
            "  \"diversity_loss_weight\": 0.1,\n",
            "  \"do_stable_layer_norm\": false,\n",
            "  \"eos_token_id\": 2,\n",
            "  \"feat_extract_activation\": \"gelu\",\n",
            "  \"feat_extract_norm\": \"group\",\n",
            "  \"feat_proj_dropout\": 0.1,\n",
            "  \"feat_quantizer_dropout\": 0.0,\n",
            "  \"final_dropout\": 0.0,\n",
            "  \"freeze_feat_extract_train\": true,\n",
            "  \"hidden_act\": \"gelu\",\n",
            "  \"hidden_dropout\": 0.1,\n",
            "  \"hidden_size\": 768,\n",
            "  \"initializer_range\": 0.02,\n",
            "  \"intermediate_size\": 3072,\n",
            "  \"layer_norm_eps\": 1e-05,\n",
            "  \"layerdrop\": 0.0,\n",
            "  \"mask_channel_length\": 10,\n",
            "  \"mask_channel_min_space\": 1,\n",
            "  \"mask_channel_other\": 0.0,\n",
            "  \"mask_channel_prob\": 0.0,\n",
            "  \"mask_channel_selection\": \"static\",\n",
            "  \"mask_feature_length\": 10,\n",
            "  \"mask_feature_min_masks\": 0,\n",
            "  \"mask_feature_prob\": 0.0,\n",
            "  \"mask_time_length\": 10,\n",
            "  \"mask_time_min_masks\": 2,\n",
            "  \"mask_time_min_space\": 1,\n",
            "  \"mask_time_other\": 0.0,\n",
            "  \"mask_time_prob\": 0.05,\n",
            "  \"mask_time_selection\": \"static\",\n",
            "  \"model_type\": \"wav2vec2\",\n",
            "  \"no_mask_channel_overlap\": false,\n",
            "  \"no_mask_time_overlap\": false,\n",
            "  \"num_adapter_layers\": 3,\n",
            "  \"num_attention_heads\": 12,\n",
            "  \"num_codevector_groups\": 2,\n",
            "  \"num_codevectors_per_group\": 320,\n",
            "  \"num_conv_pos_embedding_groups\": 16,\n",
            "  \"num_conv_pos_embeddings\": 128,\n",
            "  \"num_feat_extract_layers\": 7,\n",
            "  \"num_hidden_layers\": 12,\n",
            "  \"num_negatives\": 100,\n",
            "  \"output_hidden_size\": 768,\n",
            "  \"pad_token_id\": 29,\n",
            "  \"proj_codevector_dim\": 256,\n",
            "  \"tdnn_dilation\": [\n",
            "    1,\n",
            "    2,\n",
            "    3,\n",
            "    1,\n",
            "    1\n",
            "  ],\n",
            "  \"tdnn_dim\": [\n",
            "    512,\n",
            "    512,\n",
            "    512,\n",
            "    512,\n",
            "    1500\n",
            "  ],\n",
            "  \"tdnn_kernel\": [\n",
            "    5,\n",
            "    3,\n",
            "    3,\n",
            "    1,\n",
            "    1\n",
            "  ],\n",
            "  \"torch_dtype\": \"float32\",\n",
            "  \"transformers_version\": \"4.17.0\",\n",
            "  \"use_weighted_layer_sum\": false,\n",
            "  \"vocab_size\": 32,\n",
            "  \"xvector_output_dim\": 512\n",
            "}\n",
            "\n",
            "https://huggingface.co/patrickvonplaten/wav2vec2-base-timit-demo-google-colab/resolve/main/pytorch_model.bin not found in cache or force_download set to True, downloading to /root/.cache/huggingface/transformers/tmpqyr71zls\n"
          ]
        },
        {
          "output_type": "display_data",
          "data": {
            "text/plain": [
              "Downloading:   0%|          | 0.00/360M [00:00<?, ?B/s]"
            ],
            "application/vnd.jupyter.widget-view+json": {
              "version_major": 2,
              "version_minor": 0,
              "model_id": "b8d6cfca724541abb81eb7cf9a19902a"
            }
          },
          "metadata": {}
        },
        {
          "output_type": "stream",
          "name": "stderr",
          "text": [
            "storing https://huggingface.co/patrickvonplaten/wav2vec2-base-timit-demo-google-colab/resolve/main/pytorch_model.bin in cache at /root/.cache/huggingface/transformers/666767bce47a87d50dfd1ceac759d5dc9db6eac8d185ae8f9a7dd388687c28c5.20bdf845b9896c1d0a213f03187b544f2a12b23d751b88c7b49a95d00bd946e1\n",
            "creating metadata file for /root/.cache/huggingface/transformers/666767bce47a87d50dfd1ceac759d5dc9db6eac8d185ae8f9a7dd388687c28c5.20bdf845b9896c1d0a213f03187b544f2a12b23d751b88c7b49a95d00bd946e1\n",
            "loading weights file https://huggingface.co/patrickvonplaten/wav2vec2-base-timit-demo-google-colab/resolve/main/pytorch_model.bin from cache at /root/.cache/huggingface/transformers/666767bce47a87d50dfd1ceac759d5dc9db6eac8d185ae8f9a7dd388687c28c5.20bdf845b9896c1d0a213f03187b544f2a12b23d751b88c7b49a95d00bd946e1\n",
            "All model checkpoint weights were used when initializing Wav2Vec2ForCTC.\n",
            "\n",
            "All the weights of Wav2Vec2ForCTC were initialized from the model checkpoint at patrickvonplaten/wav2vec2-base-timit-demo-google-colab.\n",
            "If your task is similar to the task the model of the checkpoint was trained on, you can already use Wav2Vec2ForCTC for predictions without further training.\n"
          ]
        }
      ]
    },
    {
      "cell_type": "code",
      "metadata": {
        "id": "40naJl53n7jT"
      },
      "source": [
        "def map_to_result(batch):\n",
        "  with torch.no_grad():\n",
        "    input_values = torch.tensor(batch[\"input_values\"], device=\"cuda\").unsqueeze(0)\n",
        "    logits = model(input_values).logits\n",
        "\n",
        "  pred_ids = torch.argmax(logits, dim=-1)\n",
        "  batch[\"pred_str\"] = processor.batch_decode(pred_ids)[0]\n",
        "  batch[\"text\"] = processor.decode(batch[\"labels\"], group_tokens=False)\n",
        "  \n",
        "  return batch"
      ],
      "execution_count": null,
      "outputs": []
    },
    {
      "cell_type": "code",
      "metadata": {
        "id": "uPqH7gZqrGPi",
        "colab": {
          "base_uri": "https://localhost:8080/",
          "height": 49,
          "referenced_widgets": [
            "a3725be4e88647d4970580595bcdcc37",
            "c1052450d0bc4cda92d439206513b297",
            "1120c67914b248a4be415d77e00f6a2a",
            "eba84cb6ddb4426697330e1a71031e41",
            "321de41b3f96420f9076e1b391ba8265",
            "aed9374ff57f4de6a8743ccfe8b89c70",
            "2b25d5b6104d4e53b79ee461da0fe79d",
            "7fd83c8e54b9457795c41642385cff7a",
            "b167755ee76f4e6e92ab1e9ff921b6c8",
            "028a9edd610443a8bb8b9a0c99f08983",
            "c6f1f79966ce4ebc9e9bfa3143269111"
          ]
        },
        "outputId": "9f76ab78-172e-41f0-8473-38a25f190fa5"
      },
      "source": [
        "results = timit[\"test\"].map(map_to_result, remove_columns=timit[\"test\"].column_names)"
      ],
      "execution_count": null,
      "outputs": [
        {
          "output_type": "display_data",
          "data": {
            "text/plain": [
              "0ex [00:00, ?ex/s]"
            ],
            "application/vnd.jupyter.widget-view+json": {
              "version_major": 2,
              "version_minor": 0,
              "model_id": "a3725be4e88647d4970580595bcdcc37"
            }
          },
          "metadata": {}
        }
      ]
    },
    {
      "cell_type": "code",
      "metadata": {
        "id": "PmqAb4Isx8OK",
        "colab": {
          "base_uri": "https://localhost:8080/"
        },
        "outputId": "a3a5e91c-bbf8-40f3-97a3-03d92212ab37"
      },
      "source": [
        "print(\"Test WER: {:.3f}\".format(wer_metric.compute(predictions=results[\"pred_str\"], references=results[\"text\"])))"
      ],
      "execution_count": null,
      "outputs": [
        {
          "output_type": "stream",
          "name": "stdout",
          "text": [
            "Test WER: 4.741\n"
          ]
        }
      ]
    },
    {
      "cell_type": "code",
      "metadata": {
        "id": "odNDiFVRy53w",
        "colab": {
          "base_uri": "https://localhost:8080/",
          "height": 363
        },
        "outputId": "b8000771-80a3-4335-a067-b16d66130e56"
      },
      "source": [
        "show_random_elements(results)"
      ],
      "execution_count": null,
      "outputs": [
        {
          "output_type": "display_data",
          "data": {
            "text/plain": [
              "<IPython.core.display.HTML object>"
            ],
            "text/html": [
              "<table border=\"1\" class=\"dataframe\">\n",
              "  <thead>\n",
              "    <tr style=\"text-align: right;\">\n",
              "      <th></th>\n",
              "      <th>pred_str</th>\n",
              "      <th>text</th>\n",
              "    </tr>\n",
              "  </thead>\n",
              "  <tbody>\n",
              "    <tr>\n",
              "      <th>0</th>\n",
              "      <td>young children should avoid exposure to contageous diseases</td>\n",
              "      <td>uzcpnsdhxakywpslhzcaksmvzxkswitzlcywsozsdzpomnxzclskxlwmlwls</td>\n",
              "    </tr>\n",
              "    <tr>\n",
              "      <th>1</th>\n",
              "      <td>art official intelligence is for real</td>\n",
              "      <td>myoxfxdxmasxpowaaxnwpdwsxlsfzysywmas</td>\n",
              "    </tr>\n",
              "    <tr>\n",
              "      <th>2</th>\n",
              "      <td>theire propes were two step latters a chair and a pame fen</td>\n",
              "      <td>ohwxystyztls wywso zslowtamkkwylsmsdhmxysmpksmstmagsfmps</td>\n",
              "    </tr>\n",
              "    <tr>\n",
              "      <th>3</th>\n",
              "      <td>if people were more generous there would be no need for wealfar</td>\n",
              "      <td>xfstwztaws wywsgzywsnwpwyzclsohwyws zcaksbwspzspwwksfzys wafmyws</td>\n",
              "    </tr>\n",
              "    <tr>\n",
              "      <th>4</th>\n",
              "      <td>the fish began to leep frantically on the surface of the smalleaku</td>\n",
              "      <td>ohwsfxlhsbwnmpsozsawmtsfympoxdmaauszpsohwslcyfmdwszfsohwslgmaasamrws</td>\n",
              "    </tr>\n",
              "    <tr>\n",
              "      <th>5</th>\n",
              "      <td>her rite hand aques whenever the baramatric presuer changes</td>\n",
              "      <td>hwysyxnhoshmpksmdhwls hwpwvwysohwsbmyzgwoyxdstywllcywsdhmpnwls</td>\n",
              "    </tr>\n",
              "    <tr>\n",
              "      <th>6</th>\n",
              "      <td>only lawyers loved milunears</td>\n",
              "      <td>zpausam uwylsazvwsgxaaxzpmxywls</td>\n",
              "    </tr>\n",
              "    <tr>\n",
              "      <th>7</th>\n",
              "      <td>the nearest synnegu may not be within walk in distance</td>\n",
              "      <td>ohwspwmywloslupmnzncwsgmuspzosbws xohxps marxpnskxlompdws</td>\n",
              "    </tr>\n",
              "    <tr>\n",
              "      <th>8</th>\n",
              "      <td>basket ball can be an entertaining sport</td>\n",
              "      <td>bmlrwobmaasdmpsbwsmpswpowyomxpxpnsltzyos</td>\n",
              "    </tr>\n",
              "    <tr>\n",
              "      <th>9</th>\n",
              "      <td>she had your dark suit in greasy wash water all year</td>\n",
              "      <td>lhwshmksuzcyskmyrslcxosxpsnywmlus mlhs mowysmaasuwmys</td>\n",
              "    </tr>\n",
              "  </tbody>\n",
              "</table>"
            ]
          },
          "metadata": {}
        }
      ]
    },
    {
      "cell_type": "code",
      "metadata": {
        "id": "AqaM45t87uM4",
        "colab": {
          "base_uri": "https://localhost:8080/",
          "height": 88
        },
        "outputId": "bbbf9e00-edcb-44e0-dca7-113c3a262be4"
      },
      "source": [
        "model.to(\"cuda\")\n",
        "\n",
        "with torch.no_grad():\n",
        "  logits = model(torch.tensor(timit[\"test\"][:1][\"input_values\"], device=\"cuda\")).logits\n",
        "\n",
        "pred_ids = torch.argmax(logits, dim=-1)\n",
        "\n",
        "# convert ids to tokens\n",
        "\" \".join(processor.tokenizer.convert_ids_to_tokens(pred_ids[0].tolist()))"
      ],
      "execution_count": null,
      "outputs": [
        {
          "output_type": "execute_result",
          "data": {
            "text/plain": [
              "'[PAD] [PAD] [PAD] [PAD] [PAD] t t h h e | | | b [PAD] [PAD] [PAD] u u n n g g [PAD] [PAD] l l l l [PAD] o o o | | w w a a s s | | [PAD] [PAD] [PAD] p l l [PAD] e s s s s [PAD] n n t t [PAD] l l l y y | | [PAD] s s s i i t t t [PAD] u u u u u [PAD] [PAD] [PAD] [PAD] a a t t [PAD] e e d d | | [PAD] n n e e a a r | | t t h e e | | s s h h [PAD] [PAD] [PAD] [PAD] o o r r r r | [PAD] [PAD] [PAD] [PAD] [PAD] [PAD] [PAD] [PAD] [PAD]'"
            ],
            "application/vnd.google.colaboratory.intrinsic+json": {
              "type": "string"
            }
          },
          "metadata": {},
          "execution_count": 50
        }
      ]
    },
    {
      "cell_type": "code",
      "source": [
        "timit"
      ],
      "metadata": {
        "colab": {
          "base_uri": "https://localhost:8080/",
          "height": 165
        },
        "id": "hN0DeU7ppwMe",
        "outputId": "90214e9d-5241-4d17-8a75-c26b3746df11"
      },
      "execution_count": null,
      "outputs": [
        {
          "output_type": "error",
          "ename": "NameError",
          "evalue": "ignored",
          "traceback": [
            "\u001b[0;31m---------------------------------------------------------------------------\u001b[0m",
            "\u001b[0;31mNameError\u001b[0m                                 Traceback (most recent call last)",
            "\u001b[0;32m<ipython-input-1-b7c7a94852d3>\u001b[0m in \u001b[0;36m<module>\u001b[0;34m()\u001b[0m\n\u001b[0;32m----> 1\u001b[0;31m \u001b[0mtimit\u001b[0m\u001b[0;34m\u001b[0m\u001b[0;34m\u001b[0m\u001b[0m\n\u001b[0m",
            "\u001b[0;31mNameError\u001b[0m: name 'timit' is not defined"
          ]
        }
      ]
    }
  ]
}